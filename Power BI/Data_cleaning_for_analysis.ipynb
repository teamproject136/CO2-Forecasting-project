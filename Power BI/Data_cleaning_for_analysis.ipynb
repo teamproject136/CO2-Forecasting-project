{
  "nbformat": 4,
  "nbformat_minor": 0,
  "metadata": {
    "colab": {
      "provenance": []
    },
    "kernelspec": {
      "name": "python3",
      "display_name": "Python 3"
    },
    "language_info": {
      "name": "python"
    }
  },
  "cells": [
    {
      "cell_type": "code",
      "execution_count": 1,
      "metadata": {
        "id": "ZkEqZnEYZhnN"
      },
      "outputs": [],
      "source": [
        "import numpy as np\n",
        "import pandas as pd"
      ]
    },
    {
      "cell_type": "code",
      "source": [
        "data = pd.read_csv('Kaggle_dataset.csv')"
      ],
      "metadata": {
        "id": "ELENu2gsfRMc"
      },
      "execution_count": 2,
      "outputs": []
    },
    {
      "cell_type": "code",
      "source": [
        "data.head()"
      ],
      "metadata": {
        "colab": {
          "base_uri": "https://localhost:8080/",
          "height": 206
        },
        "id": "gapgMayPfVlu",
        "outputId": "73592de4-6035-457f-b93b-6ab7da46a6b3"
      },
      "execution_count": 3,
      "outputs": [
        {
          "output_type": "execute_result",
          "data": {
            "text/plain": [
              "     country        date sector      value   timestamp\n",
              "0     Brazil  01/01/2019  Power   0.096799  1546300800\n",
              "1      China  01/01/2019  Power  14.816100  1546300800\n",
              "2  EU27 & UK  01/01/2019  Power   1.886490  1546300800\n",
              "3     France  01/01/2019  Power   0.051217  1546300800\n",
              "4    Germany  01/01/2019  Power   0.315002  1546300800"
            ],
            "text/html": [
              "\n",
              "  <div id=\"df-edce38c8-a893-474a-a17f-80215582d60d\" class=\"colab-df-container\">\n",
              "    <div>\n",
              "<style scoped>\n",
              "    .dataframe tbody tr th:only-of-type {\n",
              "        vertical-align: middle;\n",
              "    }\n",
              "\n",
              "    .dataframe tbody tr th {\n",
              "        vertical-align: top;\n",
              "    }\n",
              "\n",
              "    .dataframe thead th {\n",
              "        text-align: right;\n",
              "    }\n",
              "</style>\n",
              "<table border=\"1\" class=\"dataframe\">\n",
              "  <thead>\n",
              "    <tr style=\"text-align: right;\">\n",
              "      <th></th>\n",
              "      <th>country</th>\n",
              "      <th>date</th>\n",
              "      <th>sector</th>\n",
              "      <th>value</th>\n",
              "      <th>timestamp</th>\n",
              "    </tr>\n",
              "  </thead>\n",
              "  <tbody>\n",
              "    <tr>\n",
              "      <th>0</th>\n",
              "      <td>Brazil</td>\n",
              "      <td>01/01/2019</td>\n",
              "      <td>Power</td>\n",
              "      <td>0.096799</td>\n",
              "      <td>1546300800</td>\n",
              "    </tr>\n",
              "    <tr>\n",
              "      <th>1</th>\n",
              "      <td>China</td>\n",
              "      <td>01/01/2019</td>\n",
              "      <td>Power</td>\n",
              "      <td>14.816100</td>\n",
              "      <td>1546300800</td>\n",
              "    </tr>\n",
              "    <tr>\n",
              "      <th>2</th>\n",
              "      <td>EU27 &amp; UK</td>\n",
              "      <td>01/01/2019</td>\n",
              "      <td>Power</td>\n",
              "      <td>1.886490</td>\n",
              "      <td>1546300800</td>\n",
              "    </tr>\n",
              "    <tr>\n",
              "      <th>3</th>\n",
              "      <td>France</td>\n",
              "      <td>01/01/2019</td>\n",
              "      <td>Power</td>\n",
              "      <td>0.051217</td>\n",
              "      <td>1546300800</td>\n",
              "    </tr>\n",
              "    <tr>\n",
              "      <th>4</th>\n",
              "      <td>Germany</td>\n",
              "      <td>01/01/2019</td>\n",
              "      <td>Power</td>\n",
              "      <td>0.315002</td>\n",
              "      <td>1546300800</td>\n",
              "    </tr>\n",
              "  </tbody>\n",
              "</table>\n",
              "</div>\n",
              "    <div class=\"colab-df-buttons\">\n",
              "\n",
              "  <div class=\"colab-df-container\">\n",
              "    <button class=\"colab-df-convert\" onclick=\"convertToInteractive('df-edce38c8-a893-474a-a17f-80215582d60d')\"\n",
              "            title=\"Convert this dataframe to an interactive table.\"\n",
              "            style=\"display:none;\">\n",
              "\n",
              "  <svg xmlns=\"http://www.w3.org/2000/svg\" height=\"24px\" viewBox=\"0 -960 960 960\">\n",
              "    <path d=\"M120-120v-720h720v720H120Zm60-500h600v-160H180v160Zm220 220h160v-160H400v160Zm0 220h160v-160H400v160ZM180-400h160v-160H180v160Zm440 0h160v-160H620v160ZM180-180h160v-160H180v160Zm440 0h160v-160H620v160Z\"/>\n",
              "  </svg>\n",
              "    </button>\n",
              "\n",
              "  <style>\n",
              "    .colab-df-container {\n",
              "      display:flex;\n",
              "      gap: 12px;\n",
              "    }\n",
              "\n",
              "    .colab-df-convert {\n",
              "      background-color: #E8F0FE;\n",
              "      border: none;\n",
              "      border-radius: 50%;\n",
              "      cursor: pointer;\n",
              "      display: none;\n",
              "      fill: #1967D2;\n",
              "      height: 32px;\n",
              "      padding: 0 0 0 0;\n",
              "      width: 32px;\n",
              "    }\n",
              "\n",
              "    .colab-df-convert:hover {\n",
              "      background-color: #E2EBFA;\n",
              "      box-shadow: 0px 1px 2px rgba(60, 64, 67, 0.3), 0px 1px 3px 1px rgba(60, 64, 67, 0.15);\n",
              "      fill: #174EA6;\n",
              "    }\n",
              "\n",
              "    .colab-df-buttons div {\n",
              "      margin-bottom: 4px;\n",
              "    }\n",
              "\n",
              "    [theme=dark] .colab-df-convert {\n",
              "      background-color: #3B4455;\n",
              "      fill: #D2E3FC;\n",
              "    }\n",
              "\n",
              "    [theme=dark] .colab-df-convert:hover {\n",
              "      background-color: #434B5C;\n",
              "      box-shadow: 0px 1px 3px 1px rgba(0, 0, 0, 0.15);\n",
              "      filter: drop-shadow(0px 1px 2px rgba(0, 0, 0, 0.3));\n",
              "      fill: #FFFFFF;\n",
              "    }\n",
              "  </style>\n",
              "\n",
              "    <script>\n",
              "      const buttonEl =\n",
              "        document.querySelector('#df-edce38c8-a893-474a-a17f-80215582d60d button.colab-df-convert');\n",
              "      buttonEl.style.display =\n",
              "        google.colab.kernel.accessAllowed ? 'block' : 'none';\n",
              "\n",
              "      async function convertToInteractive(key) {\n",
              "        const element = document.querySelector('#df-edce38c8-a893-474a-a17f-80215582d60d');\n",
              "        const dataTable =\n",
              "          await google.colab.kernel.invokeFunction('convertToInteractive',\n",
              "                                                    [key], {});\n",
              "        if (!dataTable) return;\n",
              "\n",
              "        const docLinkHtml = 'Like what you see? Visit the ' +\n",
              "          '<a target=\"_blank\" href=https://colab.research.google.com/notebooks/data_table.ipynb>data table notebook</a>'\n",
              "          + ' to learn more about interactive tables.';\n",
              "        element.innerHTML = '';\n",
              "        dataTable['output_type'] = 'display_data';\n",
              "        await google.colab.output.renderOutput(dataTable, element);\n",
              "        const docLink = document.createElement('div');\n",
              "        docLink.innerHTML = docLinkHtml;\n",
              "        element.appendChild(docLink);\n",
              "      }\n",
              "    </script>\n",
              "  </div>\n",
              "\n",
              "\n",
              "<div id=\"df-d837316f-7ff9-49f4-99d6-a2adf48f0fe0\">\n",
              "  <button class=\"colab-df-quickchart\" onclick=\"quickchart('df-d837316f-7ff9-49f4-99d6-a2adf48f0fe0')\"\n",
              "            title=\"Suggest charts\"\n",
              "            style=\"display:none;\">\n",
              "\n",
              "<svg xmlns=\"http://www.w3.org/2000/svg\" height=\"24px\"viewBox=\"0 0 24 24\"\n",
              "     width=\"24px\">\n",
              "    <g>\n",
              "        <path d=\"M19 3H5c-1.1 0-2 .9-2 2v14c0 1.1.9 2 2 2h14c1.1 0 2-.9 2-2V5c0-1.1-.9-2-2-2zM9 17H7v-7h2v7zm4 0h-2V7h2v10zm4 0h-2v-4h2v4z\"/>\n",
              "    </g>\n",
              "</svg>\n",
              "  </button>\n",
              "\n",
              "<style>\n",
              "  .colab-df-quickchart {\n",
              "      --bg-color: #E8F0FE;\n",
              "      --fill-color: #1967D2;\n",
              "      --hover-bg-color: #E2EBFA;\n",
              "      --hover-fill-color: #174EA6;\n",
              "      --disabled-fill-color: #AAA;\n",
              "      --disabled-bg-color: #DDD;\n",
              "  }\n",
              "\n",
              "  [theme=dark] .colab-df-quickchart {\n",
              "      --bg-color: #3B4455;\n",
              "      --fill-color: #D2E3FC;\n",
              "      --hover-bg-color: #434B5C;\n",
              "      --hover-fill-color: #FFFFFF;\n",
              "      --disabled-bg-color: #3B4455;\n",
              "      --disabled-fill-color: #666;\n",
              "  }\n",
              "\n",
              "  .colab-df-quickchart {\n",
              "    background-color: var(--bg-color);\n",
              "    border: none;\n",
              "    border-radius: 50%;\n",
              "    cursor: pointer;\n",
              "    display: none;\n",
              "    fill: var(--fill-color);\n",
              "    height: 32px;\n",
              "    padding: 0;\n",
              "    width: 32px;\n",
              "  }\n",
              "\n",
              "  .colab-df-quickchart:hover {\n",
              "    background-color: var(--hover-bg-color);\n",
              "    box-shadow: 0 1px 2px rgba(60, 64, 67, 0.3), 0 1px 3px 1px rgba(60, 64, 67, 0.15);\n",
              "    fill: var(--button-hover-fill-color);\n",
              "  }\n",
              "\n",
              "  .colab-df-quickchart-complete:disabled,\n",
              "  .colab-df-quickchart-complete:disabled:hover {\n",
              "    background-color: var(--disabled-bg-color);\n",
              "    fill: var(--disabled-fill-color);\n",
              "    box-shadow: none;\n",
              "  }\n",
              "\n",
              "  .colab-df-spinner {\n",
              "    border: 2px solid var(--fill-color);\n",
              "    border-color: transparent;\n",
              "    border-bottom-color: var(--fill-color);\n",
              "    animation:\n",
              "      spin 1s steps(1) infinite;\n",
              "  }\n",
              "\n",
              "  @keyframes spin {\n",
              "    0% {\n",
              "      border-color: transparent;\n",
              "      border-bottom-color: var(--fill-color);\n",
              "      border-left-color: var(--fill-color);\n",
              "    }\n",
              "    20% {\n",
              "      border-color: transparent;\n",
              "      border-left-color: var(--fill-color);\n",
              "      border-top-color: var(--fill-color);\n",
              "    }\n",
              "    30% {\n",
              "      border-color: transparent;\n",
              "      border-left-color: var(--fill-color);\n",
              "      border-top-color: var(--fill-color);\n",
              "      border-right-color: var(--fill-color);\n",
              "    }\n",
              "    40% {\n",
              "      border-color: transparent;\n",
              "      border-right-color: var(--fill-color);\n",
              "      border-top-color: var(--fill-color);\n",
              "    }\n",
              "    60% {\n",
              "      border-color: transparent;\n",
              "      border-right-color: var(--fill-color);\n",
              "    }\n",
              "    80% {\n",
              "      border-color: transparent;\n",
              "      border-right-color: var(--fill-color);\n",
              "      border-bottom-color: var(--fill-color);\n",
              "    }\n",
              "    90% {\n",
              "      border-color: transparent;\n",
              "      border-bottom-color: var(--fill-color);\n",
              "    }\n",
              "  }\n",
              "</style>\n",
              "\n",
              "  <script>\n",
              "    async function quickchart(key) {\n",
              "      const quickchartButtonEl =\n",
              "        document.querySelector('#' + key + ' button');\n",
              "      quickchartButtonEl.disabled = true;  // To prevent multiple clicks.\n",
              "      quickchartButtonEl.classList.add('colab-df-spinner');\n",
              "      try {\n",
              "        const charts = await google.colab.kernel.invokeFunction(\n",
              "            'suggestCharts', [key], {});\n",
              "      } catch (error) {\n",
              "        console.error('Error during call to suggestCharts:', error);\n",
              "      }\n",
              "      quickchartButtonEl.classList.remove('colab-df-spinner');\n",
              "      quickchartButtonEl.classList.add('colab-df-quickchart-complete');\n",
              "    }\n",
              "    (() => {\n",
              "      let quickchartButtonEl =\n",
              "        document.querySelector('#df-d837316f-7ff9-49f4-99d6-a2adf48f0fe0 button');\n",
              "      quickchartButtonEl.style.display =\n",
              "        google.colab.kernel.accessAllowed ? 'block' : 'none';\n",
              "    })();\n",
              "  </script>\n",
              "</div>\n",
              "\n",
              "    </div>\n",
              "  </div>\n"
            ],
            "application/vnd.google.colaboratory.intrinsic+json": {
              "type": "dataframe",
              "variable_name": "data"
            }
          },
          "metadata": {},
          "execution_count": 3
        }
      ]
    },
    {
      "cell_type": "code",
      "source": [
        "print(data.isnull().sum())"
      ],
      "metadata": {
        "colab": {
          "base_uri": "https://localhost:8080/"
        },
        "id": "mwwuKuM_fXSv",
        "outputId": "07a0df03-bfd8-4248-be00-2256c170b7e9"
      },
      "execution_count": 4,
      "outputs": [
        {
          "output_type": "stream",
          "name": "stdout",
          "text": [
            "country      0\n",
            "date         0\n",
            "sector       0\n",
            "value        0\n",
            "timestamp    0\n",
            "dtype: int64\n"
          ]
        }
      ]
    },
    {
      "cell_type": "code",
      "source": [
        "print(data.nunique())"
      ],
      "metadata": {
        "colab": {
          "base_uri": "https://localhost:8080/"
        },
        "id": "iYhz1oE8fgQL",
        "outputId": "cb67bba5-33d5-4a4d-f2a2-c8da94f9d6e9"
      },
      "execution_count": 6,
      "outputs": [
        {
          "output_type": "stream",
          "name": "stdout",
          "text": [
            "country          14\n",
            "date           1612\n",
            "sector            6\n",
            "value        127135\n",
            "timestamp      1612\n",
            "dtype: int64\n"
          ]
        }
      ]
    },
    {
      "cell_type": "code",
      "source": [
        "data['country'] = data['country'].astype('category')"
      ],
      "metadata": {
        "id": "4cdALts4fv2S"
      },
      "execution_count": 8,
      "outputs": []
    },
    {
      "cell_type": "code",
      "source": [
        "data['sector'] = data['sector'].astype('category')"
      ],
      "metadata": {
        "id": "015Jxl-nhOFW"
      },
      "execution_count": 9,
      "outputs": []
    },
    {
      "cell_type": "code",
      "source": [
        "data['date'] = pd.to_datetime(data['date'], dayfirst=True)"
      ],
      "metadata": {
        "id": "Wu9QbA1olkLh"
      },
      "execution_count": 33,
      "outputs": []
    },
    {
      "cell_type": "code",
      "source": [
        "data.info()"
      ],
      "metadata": {
        "colab": {
          "base_uri": "https://localhost:8080/"
        },
        "id": "lugKUUNuhVPL",
        "outputId": "d92c694f-d1b7-4858-b45e-1b56f7977650"
      },
      "execution_count": 34,
      "outputs": [
        {
          "output_type": "stream",
          "name": "stdout",
          "text": [
            "<class 'pandas.core.frame.DataFrame'>\n",
            "RangeIndex: 135408 entries, 0 to 135407\n",
            "Data columns (total 6 columns):\n",
            " #   Column                         Non-Null Count   Dtype         \n",
            "---  ------                         --------------   -----         \n",
            " 0   country                        135408 non-null  category      \n",
            " 1   date                           135408 non-null  datetime64[ns]\n",
            " 2   sector                         135408 non-null  category      \n",
            " 3   value                          135408 non-null  float64       \n",
            " 4   Total_CO2_per_country          135408 non-null  float64       \n",
            " 5   Sector_percentage_per_country  135408 non-null  float64       \n",
            "dtypes: category(2), datetime64[ns](1), float64(3)\n",
            "memory usage: 4.4 MB\n"
          ]
        }
      ]
    },
    {
      "cell_type": "code",
      "source": [
        "data.info()"
      ],
      "metadata": {
        "colab": {
          "base_uri": "https://localhost:8080/"
        },
        "id": "CI0wvpYShoSo",
        "outputId": "aa7f5378-9985-4e57-dfc6-54bcd4677850"
      },
      "execution_count": 36,
      "outputs": [
        {
          "output_type": "stream",
          "name": "stdout",
          "text": [
            "<class 'pandas.core.frame.DataFrame'>\n",
            "RangeIndex: 135408 entries, 0 to 135407\n",
            "Data columns (total 6 columns):\n",
            " #   Column                         Non-Null Count   Dtype         \n",
            "---  ------                         --------------   -----         \n",
            " 0   country                        135408 non-null  category      \n",
            " 1   date                           135408 non-null  datetime64[ns]\n",
            " 2   sector                         135408 non-null  category      \n",
            " 3   value                          135408 non-null  float64       \n",
            " 4   Total_CO2_per_country          135408 non-null  float64       \n",
            " 5   Sector_percentage_per_country  135408 non-null  float64       \n",
            "dtypes: category(2), datetime64[ns](1), float64(3)\n",
            "memory usage: 4.4 MB\n"
          ]
        }
      ]
    },
    {
      "cell_type": "code",
      "source": [
        "data.head()"
      ],
      "metadata": {
        "colab": {
          "base_uri": "https://localhost:8080/",
          "height": 206
        },
        "id": "jYFCiQM6hw3y",
        "outputId": "4fdf7134-7734-45ba-ac0e-5ba44c727dd5"
      },
      "execution_count": 37,
      "outputs": [
        {
          "output_type": "execute_result",
          "data": {
            "text/plain": [
              "     country       date sector      value  Total_CO2_per_country  \\\n",
              "0     Brazil 2019-01-01  Power   0.096799            1836.474832   \n",
              "1      China 2019-01-01  Power  14.816100           48003.071381   \n",
              "2  EU27 & UK 2019-01-01  Power   1.886490           14004.102835   \n",
              "3     France 2019-01-01  Power   0.051217            1328.491333   \n",
              "4    Germany 2019-01-01  Power   0.315002            2951.018676   \n",
              "\n",
              "   Sector_percentage_per_country  \n",
              "0                      18.220064  \n",
              "1                      44.893003  \n",
              "2                      27.637675  \n",
              "3                       9.858696  \n",
              "4                      35.056642  "
            ],
            "text/html": [
              "\n",
              "  <div id=\"df-4a147a06-c8e7-425f-acfa-d01fe388bca6\" class=\"colab-df-container\">\n",
              "    <div>\n",
              "<style scoped>\n",
              "    .dataframe tbody tr th:only-of-type {\n",
              "        vertical-align: middle;\n",
              "    }\n",
              "\n",
              "    .dataframe tbody tr th {\n",
              "        vertical-align: top;\n",
              "    }\n",
              "\n",
              "    .dataframe thead th {\n",
              "        text-align: right;\n",
              "    }\n",
              "</style>\n",
              "<table border=\"1\" class=\"dataframe\">\n",
              "  <thead>\n",
              "    <tr style=\"text-align: right;\">\n",
              "      <th></th>\n",
              "      <th>country</th>\n",
              "      <th>date</th>\n",
              "      <th>sector</th>\n",
              "      <th>value</th>\n",
              "      <th>Total_CO2_per_country</th>\n",
              "      <th>Sector_percentage_per_country</th>\n",
              "    </tr>\n",
              "  </thead>\n",
              "  <tbody>\n",
              "    <tr>\n",
              "      <th>0</th>\n",
              "      <td>Brazil</td>\n",
              "      <td>2019-01-01</td>\n",
              "      <td>Power</td>\n",
              "      <td>0.096799</td>\n",
              "      <td>1836.474832</td>\n",
              "      <td>18.220064</td>\n",
              "    </tr>\n",
              "    <tr>\n",
              "      <th>1</th>\n",
              "      <td>China</td>\n",
              "      <td>2019-01-01</td>\n",
              "      <td>Power</td>\n",
              "      <td>14.816100</td>\n",
              "      <td>48003.071381</td>\n",
              "      <td>44.893003</td>\n",
              "    </tr>\n",
              "    <tr>\n",
              "      <th>2</th>\n",
              "      <td>EU27 &amp; UK</td>\n",
              "      <td>2019-01-01</td>\n",
              "      <td>Power</td>\n",
              "      <td>1.886490</td>\n",
              "      <td>14004.102835</td>\n",
              "      <td>27.637675</td>\n",
              "    </tr>\n",
              "    <tr>\n",
              "      <th>3</th>\n",
              "      <td>France</td>\n",
              "      <td>2019-01-01</td>\n",
              "      <td>Power</td>\n",
              "      <td>0.051217</td>\n",
              "      <td>1328.491333</td>\n",
              "      <td>9.858696</td>\n",
              "    </tr>\n",
              "    <tr>\n",
              "      <th>4</th>\n",
              "      <td>Germany</td>\n",
              "      <td>2019-01-01</td>\n",
              "      <td>Power</td>\n",
              "      <td>0.315002</td>\n",
              "      <td>2951.018676</td>\n",
              "      <td>35.056642</td>\n",
              "    </tr>\n",
              "  </tbody>\n",
              "</table>\n",
              "</div>\n",
              "    <div class=\"colab-df-buttons\">\n",
              "\n",
              "  <div class=\"colab-df-container\">\n",
              "    <button class=\"colab-df-convert\" onclick=\"convertToInteractive('df-4a147a06-c8e7-425f-acfa-d01fe388bca6')\"\n",
              "            title=\"Convert this dataframe to an interactive table.\"\n",
              "            style=\"display:none;\">\n",
              "\n",
              "  <svg xmlns=\"http://www.w3.org/2000/svg\" height=\"24px\" viewBox=\"0 -960 960 960\">\n",
              "    <path d=\"M120-120v-720h720v720H120Zm60-500h600v-160H180v160Zm220 220h160v-160H400v160Zm0 220h160v-160H400v160ZM180-400h160v-160H180v160Zm440 0h160v-160H620v160ZM180-180h160v-160H180v160Zm440 0h160v-160H620v160Z\"/>\n",
              "  </svg>\n",
              "    </button>\n",
              "\n",
              "  <style>\n",
              "    .colab-df-container {\n",
              "      display:flex;\n",
              "      gap: 12px;\n",
              "    }\n",
              "\n",
              "    .colab-df-convert {\n",
              "      background-color: #E8F0FE;\n",
              "      border: none;\n",
              "      border-radius: 50%;\n",
              "      cursor: pointer;\n",
              "      display: none;\n",
              "      fill: #1967D2;\n",
              "      height: 32px;\n",
              "      padding: 0 0 0 0;\n",
              "      width: 32px;\n",
              "    }\n",
              "\n",
              "    .colab-df-convert:hover {\n",
              "      background-color: #E2EBFA;\n",
              "      box-shadow: 0px 1px 2px rgba(60, 64, 67, 0.3), 0px 1px 3px 1px rgba(60, 64, 67, 0.15);\n",
              "      fill: #174EA6;\n",
              "    }\n",
              "\n",
              "    .colab-df-buttons div {\n",
              "      margin-bottom: 4px;\n",
              "    }\n",
              "\n",
              "    [theme=dark] .colab-df-convert {\n",
              "      background-color: #3B4455;\n",
              "      fill: #D2E3FC;\n",
              "    }\n",
              "\n",
              "    [theme=dark] .colab-df-convert:hover {\n",
              "      background-color: #434B5C;\n",
              "      box-shadow: 0px 1px 3px 1px rgba(0, 0, 0, 0.15);\n",
              "      filter: drop-shadow(0px 1px 2px rgba(0, 0, 0, 0.3));\n",
              "      fill: #FFFFFF;\n",
              "    }\n",
              "  </style>\n",
              "\n",
              "    <script>\n",
              "      const buttonEl =\n",
              "        document.querySelector('#df-4a147a06-c8e7-425f-acfa-d01fe388bca6 button.colab-df-convert');\n",
              "      buttonEl.style.display =\n",
              "        google.colab.kernel.accessAllowed ? 'block' : 'none';\n",
              "\n",
              "      async function convertToInteractive(key) {\n",
              "        const element = document.querySelector('#df-4a147a06-c8e7-425f-acfa-d01fe388bca6');\n",
              "        const dataTable =\n",
              "          await google.colab.kernel.invokeFunction('convertToInteractive',\n",
              "                                                    [key], {});\n",
              "        if (!dataTable) return;\n",
              "\n",
              "        const docLinkHtml = 'Like what you see? Visit the ' +\n",
              "          '<a target=\"_blank\" href=https://colab.research.google.com/notebooks/data_table.ipynb>data table notebook</a>'\n",
              "          + ' to learn more about interactive tables.';\n",
              "        element.innerHTML = '';\n",
              "        dataTable['output_type'] = 'display_data';\n",
              "        await google.colab.output.renderOutput(dataTable, element);\n",
              "        const docLink = document.createElement('div');\n",
              "        docLink.innerHTML = docLinkHtml;\n",
              "        element.appendChild(docLink);\n",
              "      }\n",
              "    </script>\n",
              "  </div>\n",
              "\n",
              "\n",
              "<div id=\"df-339a7497-32e3-450c-94a8-a23e006717ab\">\n",
              "  <button class=\"colab-df-quickchart\" onclick=\"quickchart('df-339a7497-32e3-450c-94a8-a23e006717ab')\"\n",
              "            title=\"Suggest charts\"\n",
              "            style=\"display:none;\">\n",
              "\n",
              "<svg xmlns=\"http://www.w3.org/2000/svg\" height=\"24px\"viewBox=\"0 0 24 24\"\n",
              "     width=\"24px\">\n",
              "    <g>\n",
              "        <path d=\"M19 3H5c-1.1 0-2 .9-2 2v14c0 1.1.9 2 2 2h14c1.1 0 2-.9 2-2V5c0-1.1-.9-2-2-2zM9 17H7v-7h2v7zm4 0h-2V7h2v10zm4 0h-2v-4h2v4z\"/>\n",
              "    </g>\n",
              "</svg>\n",
              "  </button>\n",
              "\n",
              "<style>\n",
              "  .colab-df-quickchart {\n",
              "      --bg-color: #E8F0FE;\n",
              "      --fill-color: #1967D2;\n",
              "      --hover-bg-color: #E2EBFA;\n",
              "      --hover-fill-color: #174EA6;\n",
              "      --disabled-fill-color: #AAA;\n",
              "      --disabled-bg-color: #DDD;\n",
              "  }\n",
              "\n",
              "  [theme=dark] .colab-df-quickchart {\n",
              "      --bg-color: #3B4455;\n",
              "      --fill-color: #D2E3FC;\n",
              "      --hover-bg-color: #434B5C;\n",
              "      --hover-fill-color: #FFFFFF;\n",
              "      --disabled-bg-color: #3B4455;\n",
              "      --disabled-fill-color: #666;\n",
              "  }\n",
              "\n",
              "  .colab-df-quickchart {\n",
              "    background-color: var(--bg-color);\n",
              "    border: none;\n",
              "    border-radius: 50%;\n",
              "    cursor: pointer;\n",
              "    display: none;\n",
              "    fill: var(--fill-color);\n",
              "    height: 32px;\n",
              "    padding: 0;\n",
              "    width: 32px;\n",
              "  }\n",
              "\n",
              "  .colab-df-quickchart:hover {\n",
              "    background-color: var(--hover-bg-color);\n",
              "    box-shadow: 0 1px 2px rgba(60, 64, 67, 0.3), 0 1px 3px 1px rgba(60, 64, 67, 0.15);\n",
              "    fill: var(--button-hover-fill-color);\n",
              "  }\n",
              "\n",
              "  .colab-df-quickchart-complete:disabled,\n",
              "  .colab-df-quickchart-complete:disabled:hover {\n",
              "    background-color: var(--disabled-bg-color);\n",
              "    fill: var(--disabled-fill-color);\n",
              "    box-shadow: none;\n",
              "  }\n",
              "\n",
              "  .colab-df-spinner {\n",
              "    border: 2px solid var(--fill-color);\n",
              "    border-color: transparent;\n",
              "    border-bottom-color: var(--fill-color);\n",
              "    animation:\n",
              "      spin 1s steps(1) infinite;\n",
              "  }\n",
              "\n",
              "  @keyframes spin {\n",
              "    0% {\n",
              "      border-color: transparent;\n",
              "      border-bottom-color: var(--fill-color);\n",
              "      border-left-color: var(--fill-color);\n",
              "    }\n",
              "    20% {\n",
              "      border-color: transparent;\n",
              "      border-left-color: var(--fill-color);\n",
              "      border-top-color: var(--fill-color);\n",
              "    }\n",
              "    30% {\n",
              "      border-color: transparent;\n",
              "      border-left-color: var(--fill-color);\n",
              "      border-top-color: var(--fill-color);\n",
              "      border-right-color: var(--fill-color);\n",
              "    }\n",
              "    40% {\n",
              "      border-color: transparent;\n",
              "      border-right-color: var(--fill-color);\n",
              "      border-top-color: var(--fill-color);\n",
              "    }\n",
              "    60% {\n",
              "      border-color: transparent;\n",
              "      border-right-color: var(--fill-color);\n",
              "    }\n",
              "    80% {\n",
              "      border-color: transparent;\n",
              "      border-right-color: var(--fill-color);\n",
              "      border-bottom-color: var(--fill-color);\n",
              "    }\n",
              "    90% {\n",
              "      border-color: transparent;\n",
              "      border-bottom-color: var(--fill-color);\n",
              "    }\n",
              "  }\n",
              "</style>\n",
              "\n",
              "  <script>\n",
              "    async function quickchart(key) {\n",
              "      const quickchartButtonEl =\n",
              "        document.querySelector('#' + key + ' button');\n",
              "      quickchartButtonEl.disabled = true;  // To prevent multiple clicks.\n",
              "      quickchartButtonEl.classList.add('colab-df-spinner');\n",
              "      try {\n",
              "        const charts = await google.colab.kernel.invokeFunction(\n",
              "            'suggestCharts', [key], {});\n",
              "      } catch (error) {\n",
              "        console.error('Error during call to suggestCharts:', error);\n",
              "      }\n",
              "      quickchartButtonEl.classList.remove('colab-df-spinner');\n",
              "      quickchartButtonEl.classList.add('colab-df-quickchart-complete');\n",
              "    }\n",
              "    (() => {\n",
              "      let quickchartButtonEl =\n",
              "        document.querySelector('#df-339a7497-32e3-450c-94a8-a23e006717ab button');\n",
              "      quickchartButtonEl.style.display =\n",
              "        google.colab.kernel.accessAllowed ? 'block' : 'none';\n",
              "    })();\n",
              "  </script>\n",
              "</div>\n",
              "\n",
              "    </div>\n",
              "  </div>\n"
            ],
            "application/vnd.google.colaboratory.intrinsic+json": {
              "type": "dataframe",
              "variable_name": "data"
            }
          },
          "metadata": {},
          "execution_count": 37
        }
      ]
    },
    {
      "cell_type": "markdown",
      "source": [
        "#Creating Calculated Columns"
      ],
      "metadata": {
        "id": "uxxzboL2hzqR"
      }
    },
    {
      "cell_type": "markdown",
      "source": [
        "1. Total CO2 emission per country"
      ],
      "metadata": {
        "id": "irL3MhD-jKLq"
      }
    },
    {
      "cell_type": "code",
      "source": [
        "data['Total_CO2_per_country'] = data.groupby('country')['value'].transform('sum')"
      ],
      "metadata": {
        "colab": {
          "base_uri": "https://localhost:8080/"
        },
        "id": "CWrgDugghzCc",
        "outputId": "53a42322-cdca-4023-f189-53bca61cb334"
      },
      "execution_count": 38,
      "outputs": [
        {
          "output_type": "stream",
          "name": "stderr",
          "text": [
            "<ipython-input-38-7c31530b8492>:1: FutureWarning: The default of observed=False is deprecated and will be changed to True in a future version of pandas. Pass observed=False to retain current behavior or observed=True to adopt the future default and silence this warning.\n",
            "  data['Total_CO2_per_country'] = data.groupby('country')['value'].transform('sum')\n"
          ]
        }
      ]
    },
    {
      "cell_type": "code",
      "source": [
        "data.info()"
      ],
      "metadata": {
        "colab": {
          "base_uri": "https://localhost:8080/"
        },
        "id": "lsIqLqBGjrij",
        "outputId": "b101c9d1-d09a-4417-9e47-3420682b5bf3"
      },
      "execution_count": 39,
      "outputs": [
        {
          "output_type": "stream",
          "name": "stdout",
          "text": [
            "<class 'pandas.core.frame.DataFrame'>\n",
            "RangeIndex: 135408 entries, 0 to 135407\n",
            "Data columns (total 6 columns):\n",
            " #   Column                         Non-Null Count   Dtype         \n",
            "---  ------                         --------------   -----         \n",
            " 0   country                        135408 non-null  category      \n",
            " 1   date                           135408 non-null  datetime64[ns]\n",
            " 2   sector                         135408 non-null  category      \n",
            " 3   value                          135408 non-null  float64       \n",
            " 4   Total_CO2_per_country          135408 non-null  float64       \n",
            " 5   Sector_percentage_per_country  135408 non-null  float64       \n",
            "dtypes: category(2), datetime64[ns](1), float64(3)\n",
            "memory usage: 4.4 MB\n"
          ]
        }
      ]
    },
    {
      "cell_type": "code",
      "source": [
        "data.describe()"
      ],
      "metadata": {
        "colab": {
          "base_uri": "https://localhost:8080/",
          "height": 300
        },
        "id": "BvLtvYanjls4",
        "outputId": "e0096b9b-d2fb-4ea0-ccbb-fa332d702b97"
      },
      "execution_count": 40,
      "outputs": [
        {
          "output_type": "execute_result",
          "data": {
            "text/plain": [
              "                      date          value  Total_CO2_per_country  \\\n",
              "count               135408  135408.000000          135408.000000   \n",
              "mean   2021-03-16 12:00:00       2.359439           22820.492189   \n",
              "min    2019-01-01 00:00:00       0.000078            1099.732535   \n",
              "25%    2020-02-07 18:00:00       0.078661            1605.296587   \n",
              "50%    2021-03-16 12:00:00       0.314597            6281.788656   \n",
              "75%    2022-04-23 06:00:00       1.636632           21631.820344   \n",
              "max    2023-05-31 00:00:00      46.263500          155539.622124   \n",
              "std                    NaN       5.908582           39865.254704   \n",
              "\n",
              "       Sector_percentage_per_country  \n",
              "count                  135408.000000  \n",
              "mean                       16.666667  \n",
              "min                         0.144363  \n",
              "25%                         2.806176  \n",
              "50%                        16.414061  \n",
              "75%                        27.554898  \n",
              "max                        59.288309  \n",
              "std                        14.221580  "
            ],
            "text/html": [
              "\n",
              "  <div id=\"df-adfa0856-2583-4d91-bf7f-7e8e515d4b08\" class=\"colab-df-container\">\n",
              "    <div>\n",
              "<style scoped>\n",
              "    .dataframe tbody tr th:only-of-type {\n",
              "        vertical-align: middle;\n",
              "    }\n",
              "\n",
              "    .dataframe tbody tr th {\n",
              "        vertical-align: top;\n",
              "    }\n",
              "\n",
              "    .dataframe thead th {\n",
              "        text-align: right;\n",
              "    }\n",
              "</style>\n",
              "<table border=\"1\" class=\"dataframe\">\n",
              "  <thead>\n",
              "    <tr style=\"text-align: right;\">\n",
              "      <th></th>\n",
              "      <th>date</th>\n",
              "      <th>value</th>\n",
              "      <th>Total_CO2_per_country</th>\n",
              "      <th>Sector_percentage_per_country</th>\n",
              "    </tr>\n",
              "  </thead>\n",
              "  <tbody>\n",
              "    <tr>\n",
              "      <th>count</th>\n",
              "      <td>135408</td>\n",
              "      <td>135408.000000</td>\n",
              "      <td>135408.000000</td>\n",
              "      <td>135408.000000</td>\n",
              "    </tr>\n",
              "    <tr>\n",
              "      <th>mean</th>\n",
              "      <td>2021-03-16 12:00:00</td>\n",
              "      <td>2.359439</td>\n",
              "      <td>22820.492189</td>\n",
              "      <td>16.666667</td>\n",
              "    </tr>\n",
              "    <tr>\n",
              "      <th>min</th>\n",
              "      <td>2019-01-01 00:00:00</td>\n",
              "      <td>0.000078</td>\n",
              "      <td>1099.732535</td>\n",
              "      <td>0.144363</td>\n",
              "    </tr>\n",
              "    <tr>\n",
              "      <th>25%</th>\n",
              "      <td>2020-02-07 18:00:00</td>\n",
              "      <td>0.078661</td>\n",
              "      <td>1605.296587</td>\n",
              "      <td>2.806176</td>\n",
              "    </tr>\n",
              "    <tr>\n",
              "      <th>50%</th>\n",
              "      <td>2021-03-16 12:00:00</td>\n",
              "      <td>0.314597</td>\n",
              "      <td>6281.788656</td>\n",
              "      <td>16.414061</td>\n",
              "    </tr>\n",
              "    <tr>\n",
              "      <th>75%</th>\n",
              "      <td>2022-04-23 06:00:00</td>\n",
              "      <td>1.636632</td>\n",
              "      <td>21631.820344</td>\n",
              "      <td>27.554898</td>\n",
              "    </tr>\n",
              "    <tr>\n",
              "      <th>max</th>\n",
              "      <td>2023-05-31 00:00:00</td>\n",
              "      <td>46.263500</td>\n",
              "      <td>155539.622124</td>\n",
              "      <td>59.288309</td>\n",
              "    </tr>\n",
              "    <tr>\n",
              "      <th>std</th>\n",
              "      <td>NaN</td>\n",
              "      <td>5.908582</td>\n",
              "      <td>39865.254704</td>\n",
              "      <td>14.221580</td>\n",
              "    </tr>\n",
              "  </tbody>\n",
              "</table>\n",
              "</div>\n",
              "    <div class=\"colab-df-buttons\">\n",
              "\n",
              "  <div class=\"colab-df-container\">\n",
              "    <button class=\"colab-df-convert\" onclick=\"convertToInteractive('df-adfa0856-2583-4d91-bf7f-7e8e515d4b08')\"\n",
              "            title=\"Convert this dataframe to an interactive table.\"\n",
              "            style=\"display:none;\">\n",
              "\n",
              "  <svg xmlns=\"http://www.w3.org/2000/svg\" height=\"24px\" viewBox=\"0 -960 960 960\">\n",
              "    <path d=\"M120-120v-720h720v720H120Zm60-500h600v-160H180v160Zm220 220h160v-160H400v160Zm0 220h160v-160H400v160ZM180-400h160v-160H180v160Zm440 0h160v-160H620v160ZM180-180h160v-160H180v160Zm440 0h160v-160H620v160Z\"/>\n",
              "  </svg>\n",
              "    </button>\n",
              "\n",
              "  <style>\n",
              "    .colab-df-container {\n",
              "      display:flex;\n",
              "      gap: 12px;\n",
              "    }\n",
              "\n",
              "    .colab-df-convert {\n",
              "      background-color: #E8F0FE;\n",
              "      border: none;\n",
              "      border-radius: 50%;\n",
              "      cursor: pointer;\n",
              "      display: none;\n",
              "      fill: #1967D2;\n",
              "      height: 32px;\n",
              "      padding: 0 0 0 0;\n",
              "      width: 32px;\n",
              "    }\n",
              "\n",
              "    .colab-df-convert:hover {\n",
              "      background-color: #E2EBFA;\n",
              "      box-shadow: 0px 1px 2px rgba(60, 64, 67, 0.3), 0px 1px 3px 1px rgba(60, 64, 67, 0.15);\n",
              "      fill: #174EA6;\n",
              "    }\n",
              "\n",
              "    .colab-df-buttons div {\n",
              "      margin-bottom: 4px;\n",
              "    }\n",
              "\n",
              "    [theme=dark] .colab-df-convert {\n",
              "      background-color: #3B4455;\n",
              "      fill: #D2E3FC;\n",
              "    }\n",
              "\n",
              "    [theme=dark] .colab-df-convert:hover {\n",
              "      background-color: #434B5C;\n",
              "      box-shadow: 0px 1px 3px 1px rgba(0, 0, 0, 0.15);\n",
              "      filter: drop-shadow(0px 1px 2px rgba(0, 0, 0, 0.3));\n",
              "      fill: #FFFFFF;\n",
              "    }\n",
              "  </style>\n",
              "\n",
              "    <script>\n",
              "      const buttonEl =\n",
              "        document.querySelector('#df-adfa0856-2583-4d91-bf7f-7e8e515d4b08 button.colab-df-convert');\n",
              "      buttonEl.style.display =\n",
              "        google.colab.kernel.accessAllowed ? 'block' : 'none';\n",
              "\n",
              "      async function convertToInteractive(key) {\n",
              "        const element = document.querySelector('#df-adfa0856-2583-4d91-bf7f-7e8e515d4b08');\n",
              "        const dataTable =\n",
              "          await google.colab.kernel.invokeFunction('convertToInteractive',\n",
              "                                                    [key], {});\n",
              "        if (!dataTable) return;\n",
              "\n",
              "        const docLinkHtml = 'Like what you see? Visit the ' +\n",
              "          '<a target=\"_blank\" href=https://colab.research.google.com/notebooks/data_table.ipynb>data table notebook</a>'\n",
              "          + ' to learn more about interactive tables.';\n",
              "        element.innerHTML = '';\n",
              "        dataTable['output_type'] = 'display_data';\n",
              "        await google.colab.output.renderOutput(dataTable, element);\n",
              "        const docLink = document.createElement('div');\n",
              "        docLink.innerHTML = docLinkHtml;\n",
              "        element.appendChild(docLink);\n",
              "      }\n",
              "    </script>\n",
              "  </div>\n",
              "\n",
              "\n",
              "<div id=\"df-ed0b0cb3-3070-46fa-89bd-f9dede8f8cdb\">\n",
              "  <button class=\"colab-df-quickchart\" onclick=\"quickchart('df-ed0b0cb3-3070-46fa-89bd-f9dede8f8cdb')\"\n",
              "            title=\"Suggest charts\"\n",
              "            style=\"display:none;\">\n",
              "\n",
              "<svg xmlns=\"http://www.w3.org/2000/svg\" height=\"24px\"viewBox=\"0 0 24 24\"\n",
              "     width=\"24px\">\n",
              "    <g>\n",
              "        <path d=\"M19 3H5c-1.1 0-2 .9-2 2v14c0 1.1.9 2 2 2h14c1.1 0 2-.9 2-2V5c0-1.1-.9-2-2-2zM9 17H7v-7h2v7zm4 0h-2V7h2v10zm4 0h-2v-4h2v4z\"/>\n",
              "    </g>\n",
              "</svg>\n",
              "  </button>\n",
              "\n",
              "<style>\n",
              "  .colab-df-quickchart {\n",
              "      --bg-color: #E8F0FE;\n",
              "      --fill-color: #1967D2;\n",
              "      --hover-bg-color: #E2EBFA;\n",
              "      --hover-fill-color: #174EA6;\n",
              "      --disabled-fill-color: #AAA;\n",
              "      --disabled-bg-color: #DDD;\n",
              "  }\n",
              "\n",
              "  [theme=dark] .colab-df-quickchart {\n",
              "      --bg-color: #3B4455;\n",
              "      --fill-color: #D2E3FC;\n",
              "      --hover-bg-color: #434B5C;\n",
              "      --hover-fill-color: #FFFFFF;\n",
              "      --disabled-bg-color: #3B4455;\n",
              "      --disabled-fill-color: #666;\n",
              "  }\n",
              "\n",
              "  .colab-df-quickchart {\n",
              "    background-color: var(--bg-color);\n",
              "    border: none;\n",
              "    border-radius: 50%;\n",
              "    cursor: pointer;\n",
              "    display: none;\n",
              "    fill: var(--fill-color);\n",
              "    height: 32px;\n",
              "    padding: 0;\n",
              "    width: 32px;\n",
              "  }\n",
              "\n",
              "  .colab-df-quickchart:hover {\n",
              "    background-color: var(--hover-bg-color);\n",
              "    box-shadow: 0 1px 2px rgba(60, 64, 67, 0.3), 0 1px 3px 1px rgba(60, 64, 67, 0.15);\n",
              "    fill: var(--button-hover-fill-color);\n",
              "  }\n",
              "\n",
              "  .colab-df-quickchart-complete:disabled,\n",
              "  .colab-df-quickchart-complete:disabled:hover {\n",
              "    background-color: var(--disabled-bg-color);\n",
              "    fill: var(--disabled-fill-color);\n",
              "    box-shadow: none;\n",
              "  }\n",
              "\n",
              "  .colab-df-spinner {\n",
              "    border: 2px solid var(--fill-color);\n",
              "    border-color: transparent;\n",
              "    border-bottom-color: var(--fill-color);\n",
              "    animation:\n",
              "      spin 1s steps(1) infinite;\n",
              "  }\n",
              "\n",
              "  @keyframes spin {\n",
              "    0% {\n",
              "      border-color: transparent;\n",
              "      border-bottom-color: var(--fill-color);\n",
              "      border-left-color: var(--fill-color);\n",
              "    }\n",
              "    20% {\n",
              "      border-color: transparent;\n",
              "      border-left-color: var(--fill-color);\n",
              "      border-top-color: var(--fill-color);\n",
              "    }\n",
              "    30% {\n",
              "      border-color: transparent;\n",
              "      border-left-color: var(--fill-color);\n",
              "      border-top-color: var(--fill-color);\n",
              "      border-right-color: var(--fill-color);\n",
              "    }\n",
              "    40% {\n",
              "      border-color: transparent;\n",
              "      border-right-color: var(--fill-color);\n",
              "      border-top-color: var(--fill-color);\n",
              "    }\n",
              "    60% {\n",
              "      border-color: transparent;\n",
              "      border-right-color: var(--fill-color);\n",
              "    }\n",
              "    80% {\n",
              "      border-color: transparent;\n",
              "      border-right-color: var(--fill-color);\n",
              "      border-bottom-color: var(--fill-color);\n",
              "    }\n",
              "    90% {\n",
              "      border-color: transparent;\n",
              "      border-bottom-color: var(--fill-color);\n",
              "    }\n",
              "  }\n",
              "</style>\n",
              "\n",
              "  <script>\n",
              "    async function quickchart(key) {\n",
              "      const quickchartButtonEl =\n",
              "        document.querySelector('#' + key + ' button');\n",
              "      quickchartButtonEl.disabled = true;  // To prevent multiple clicks.\n",
              "      quickchartButtonEl.classList.add('colab-df-spinner');\n",
              "      try {\n",
              "        const charts = await google.colab.kernel.invokeFunction(\n",
              "            'suggestCharts', [key], {});\n",
              "      } catch (error) {\n",
              "        console.error('Error during call to suggestCharts:', error);\n",
              "      }\n",
              "      quickchartButtonEl.classList.remove('colab-df-spinner');\n",
              "      quickchartButtonEl.classList.add('colab-df-quickchart-complete');\n",
              "    }\n",
              "    (() => {\n",
              "      let quickchartButtonEl =\n",
              "        document.querySelector('#df-ed0b0cb3-3070-46fa-89bd-f9dede8f8cdb button');\n",
              "      quickchartButtonEl.style.display =\n",
              "        google.colab.kernel.accessAllowed ? 'block' : 'none';\n",
              "    })();\n",
              "  </script>\n",
              "</div>\n",
              "\n",
              "    </div>\n",
              "  </div>\n"
            ],
            "application/vnd.google.colaboratory.intrinsic+json": {
              "type": "dataframe",
              "summary": "{\n  \"name\": \"data\",\n  \"rows\": 8,\n  \"fields\": [\n    {\n      \"column\": \"date\",\n      \"properties\": {\n        \"dtype\": \"date\",\n        \"min\": \"1970-01-01 00:00:00.000135408\",\n        \"max\": \"2023-05-31 00:00:00\",\n        \"num_unique_values\": 6,\n        \"samples\": [\n          \"135408\",\n          \"2021-03-16 12:00:00\",\n          \"2023-05-31 00:00:00\"\n        ],\n        \"semantic_type\": \"\",\n        \"description\": \"\"\n      }\n    },\n    {\n      \"column\": \"value\",\n      \"properties\": {\n        \"dtype\": \"number\",\n        \"std\": 47871.103303057265,\n        \"min\": 7.77636e-05,\n        \"max\": 135408.0,\n        \"num_unique_values\": 8,\n        \"samples\": [\n          2.359438811935336,\n          1.6366325,\n          135408.0\n        ],\n        \"semantic_type\": \"\",\n        \"description\": \"\"\n      }\n    },\n    {\n      \"column\": \"Total_CO2_per_country\",\n      \"properties\": {\n        \"dtype\": \"number\",\n        \"std\": 61751.687305897234,\n        \"min\": 1099.732535352,\n        \"max\": 155539.622124,\n        \"num_unique_values\": 8,\n        \"samples\": [\n          22820.49218903857,\n          21631.8203445,\n          135408.0\n        ],\n        \"semantic_type\": \"\",\n        \"description\": \"\"\n      }\n    },\n    {\n      \"column\": \"Sector_percentage_per_country\",\n      \"properties\": {\n        \"dtype\": \"number\",\n        \"std\": 47867.03661891432,\n        \"min\": 0.14436261619650784,\n        \"max\": 135408.0,\n        \"num_unique_values\": 8,\n        \"samples\": [\n          16.666666666666668,\n          27.5548980898124,\n          135408.0\n        ],\n        \"semantic_type\": \"\",\n        \"description\": \"\"\n      }\n    }\n  ]\n}"
            }
          },
          "metadata": {},
          "execution_count": 40
        }
      ]
    },
    {
      "cell_type": "markdown",
      "source": [
        "2. Percentage contribution of each sector to the country's total emissions"
      ],
      "metadata": {
        "id": "IWC09bIDjv70"
      }
    },
    {
      "cell_type": "code",
      "source": [
        "data['Sector_percentage_per_country'] = data.groupby(['country', 'sector'])['value'].transform('sum') / data['Total_CO2_per_country'] * 100"
      ],
      "metadata": {
        "colab": {
          "base_uri": "https://localhost:8080/"
        },
        "id": "02HkAdm7kOxV",
        "outputId": "91174e89-01aa-4d45-b9ab-58e2eabdcc58"
      },
      "execution_count": 23,
      "outputs": [
        {
          "output_type": "stream",
          "name": "stderr",
          "text": [
            "<ipython-input-23-dbbc1b42887c>:1: FutureWarning: The default of observed=False is deprecated and will be changed to True in a future version of pandas. Pass observed=False to retain current behavior or observed=True to adopt the future default and silence this warning.\n",
            "  data['Sector_percentage_per_country'] = data.groupby(['country', 'sector'])['value'].transform('sum') / data['Total_CO2_per_country'] * 100\n"
          ]
        }
      ]
    },
    {
      "cell_type": "code",
      "source": [
        "data.info()"
      ],
      "metadata": {
        "colab": {
          "base_uri": "https://localhost:8080/"
        },
        "id": "gN0AzA6ekicH",
        "outputId": "58296f74-362c-4004-922e-9eb812cec7ff"
      },
      "execution_count": 41,
      "outputs": [
        {
          "output_type": "stream",
          "name": "stdout",
          "text": [
            "<class 'pandas.core.frame.DataFrame'>\n",
            "RangeIndex: 135408 entries, 0 to 135407\n",
            "Data columns (total 6 columns):\n",
            " #   Column                         Non-Null Count   Dtype         \n",
            "---  ------                         --------------   -----         \n",
            " 0   country                        135408 non-null  category      \n",
            " 1   date                           135408 non-null  datetime64[ns]\n",
            " 2   sector                         135408 non-null  category      \n",
            " 3   value                          135408 non-null  float64       \n",
            " 4   Total_CO2_per_country          135408 non-null  float64       \n",
            " 5   Sector_percentage_per_country  135408 non-null  float64       \n",
            "dtypes: category(2), datetime64[ns](1), float64(3)\n",
            "memory usage: 4.4 MB\n"
          ]
        }
      ]
    },
    {
      "cell_type": "code",
      "source": [
        "data.describe()"
      ],
      "metadata": {
        "colab": {
          "base_uri": "https://localhost:8080/",
          "height": 300
        },
        "id": "OlLbxziekn4e",
        "outputId": "5c9a663f-5db5-433a-c0d2-69349f4da5f7"
      },
      "execution_count": 42,
      "outputs": [
        {
          "output_type": "execute_result",
          "data": {
            "text/plain": [
              "                      date          value  Total_CO2_per_country  \\\n",
              "count               135408  135408.000000          135408.000000   \n",
              "mean   2021-03-16 12:00:00       2.359439           22820.492189   \n",
              "min    2019-01-01 00:00:00       0.000078            1099.732535   \n",
              "25%    2020-02-07 18:00:00       0.078661            1605.296587   \n",
              "50%    2021-03-16 12:00:00       0.314597            6281.788656   \n",
              "75%    2022-04-23 06:00:00       1.636632           21631.820344   \n",
              "max    2023-05-31 00:00:00      46.263500          155539.622124   \n",
              "std                    NaN       5.908582           39865.254704   \n",
              "\n",
              "       Sector_percentage_per_country  \n",
              "count                  135408.000000  \n",
              "mean                       16.666667  \n",
              "min                         0.144363  \n",
              "25%                         2.806176  \n",
              "50%                        16.414061  \n",
              "75%                        27.554898  \n",
              "max                        59.288309  \n",
              "std                        14.221580  "
            ],
            "text/html": [
              "\n",
              "  <div id=\"df-ddc8260b-187a-4e26-a252-f1bbf21eb36a\" class=\"colab-df-container\">\n",
              "    <div>\n",
              "<style scoped>\n",
              "    .dataframe tbody tr th:only-of-type {\n",
              "        vertical-align: middle;\n",
              "    }\n",
              "\n",
              "    .dataframe tbody tr th {\n",
              "        vertical-align: top;\n",
              "    }\n",
              "\n",
              "    .dataframe thead th {\n",
              "        text-align: right;\n",
              "    }\n",
              "</style>\n",
              "<table border=\"1\" class=\"dataframe\">\n",
              "  <thead>\n",
              "    <tr style=\"text-align: right;\">\n",
              "      <th></th>\n",
              "      <th>date</th>\n",
              "      <th>value</th>\n",
              "      <th>Total_CO2_per_country</th>\n",
              "      <th>Sector_percentage_per_country</th>\n",
              "    </tr>\n",
              "  </thead>\n",
              "  <tbody>\n",
              "    <tr>\n",
              "      <th>count</th>\n",
              "      <td>135408</td>\n",
              "      <td>135408.000000</td>\n",
              "      <td>135408.000000</td>\n",
              "      <td>135408.000000</td>\n",
              "    </tr>\n",
              "    <tr>\n",
              "      <th>mean</th>\n",
              "      <td>2021-03-16 12:00:00</td>\n",
              "      <td>2.359439</td>\n",
              "      <td>22820.492189</td>\n",
              "      <td>16.666667</td>\n",
              "    </tr>\n",
              "    <tr>\n",
              "      <th>min</th>\n",
              "      <td>2019-01-01 00:00:00</td>\n",
              "      <td>0.000078</td>\n",
              "      <td>1099.732535</td>\n",
              "      <td>0.144363</td>\n",
              "    </tr>\n",
              "    <tr>\n",
              "      <th>25%</th>\n",
              "      <td>2020-02-07 18:00:00</td>\n",
              "      <td>0.078661</td>\n",
              "      <td>1605.296587</td>\n",
              "      <td>2.806176</td>\n",
              "    </tr>\n",
              "    <tr>\n",
              "      <th>50%</th>\n",
              "      <td>2021-03-16 12:00:00</td>\n",
              "      <td>0.314597</td>\n",
              "      <td>6281.788656</td>\n",
              "      <td>16.414061</td>\n",
              "    </tr>\n",
              "    <tr>\n",
              "      <th>75%</th>\n",
              "      <td>2022-04-23 06:00:00</td>\n",
              "      <td>1.636632</td>\n",
              "      <td>21631.820344</td>\n",
              "      <td>27.554898</td>\n",
              "    </tr>\n",
              "    <tr>\n",
              "      <th>max</th>\n",
              "      <td>2023-05-31 00:00:00</td>\n",
              "      <td>46.263500</td>\n",
              "      <td>155539.622124</td>\n",
              "      <td>59.288309</td>\n",
              "    </tr>\n",
              "    <tr>\n",
              "      <th>std</th>\n",
              "      <td>NaN</td>\n",
              "      <td>5.908582</td>\n",
              "      <td>39865.254704</td>\n",
              "      <td>14.221580</td>\n",
              "    </tr>\n",
              "  </tbody>\n",
              "</table>\n",
              "</div>\n",
              "    <div class=\"colab-df-buttons\">\n",
              "\n",
              "  <div class=\"colab-df-container\">\n",
              "    <button class=\"colab-df-convert\" onclick=\"convertToInteractive('df-ddc8260b-187a-4e26-a252-f1bbf21eb36a')\"\n",
              "            title=\"Convert this dataframe to an interactive table.\"\n",
              "            style=\"display:none;\">\n",
              "\n",
              "  <svg xmlns=\"http://www.w3.org/2000/svg\" height=\"24px\" viewBox=\"0 -960 960 960\">\n",
              "    <path d=\"M120-120v-720h720v720H120Zm60-500h600v-160H180v160Zm220 220h160v-160H400v160Zm0 220h160v-160H400v160ZM180-400h160v-160H180v160Zm440 0h160v-160H620v160ZM180-180h160v-160H180v160Zm440 0h160v-160H620v160Z\"/>\n",
              "  </svg>\n",
              "    </button>\n",
              "\n",
              "  <style>\n",
              "    .colab-df-container {\n",
              "      display:flex;\n",
              "      gap: 12px;\n",
              "    }\n",
              "\n",
              "    .colab-df-convert {\n",
              "      background-color: #E8F0FE;\n",
              "      border: none;\n",
              "      border-radius: 50%;\n",
              "      cursor: pointer;\n",
              "      display: none;\n",
              "      fill: #1967D2;\n",
              "      height: 32px;\n",
              "      padding: 0 0 0 0;\n",
              "      width: 32px;\n",
              "    }\n",
              "\n",
              "    .colab-df-convert:hover {\n",
              "      background-color: #E2EBFA;\n",
              "      box-shadow: 0px 1px 2px rgba(60, 64, 67, 0.3), 0px 1px 3px 1px rgba(60, 64, 67, 0.15);\n",
              "      fill: #174EA6;\n",
              "    }\n",
              "\n",
              "    .colab-df-buttons div {\n",
              "      margin-bottom: 4px;\n",
              "    }\n",
              "\n",
              "    [theme=dark] .colab-df-convert {\n",
              "      background-color: #3B4455;\n",
              "      fill: #D2E3FC;\n",
              "    }\n",
              "\n",
              "    [theme=dark] .colab-df-convert:hover {\n",
              "      background-color: #434B5C;\n",
              "      box-shadow: 0px 1px 3px 1px rgba(0, 0, 0, 0.15);\n",
              "      filter: drop-shadow(0px 1px 2px rgba(0, 0, 0, 0.3));\n",
              "      fill: #FFFFFF;\n",
              "    }\n",
              "  </style>\n",
              "\n",
              "    <script>\n",
              "      const buttonEl =\n",
              "        document.querySelector('#df-ddc8260b-187a-4e26-a252-f1bbf21eb36a button.colab-df-convert');\n",
              "      buttonEl.style.display =\n",
              "        google.colab.kernel.accessAllowed ? 'block' : 'none';\n",
              "\n",
              "      async function convertToInteractive(key) {\n",
              "        const element = document.querySelector('#df-ddc8260b-187a-4e26-a252-f1bbf21eb36a');\n",
              "        const dataTable =\n",
              "          await google.colab.kernel.invokeFunction('convertToInteractive',\n",
              "                                                    [key], {});\n",
              "        if (!dataTable) return;\n",
              "\n",
              "        const docLinkHtml = 'Like what you see? Visit the ' +\n",
              "          '<a target=\"_blank\" href=https://colab.research.google.com/notebooks/data_table.ipynb>data table notebook</a>'\n",
              "          + ' to learn more about interactive tables.';\n",
              "        element.innerHTML = '';\n",
              "        dataTable['output_type'] = 'display_data';\n",
              "        await google.colab.output.renderOutput(dataTable, element);\n",
              "        const docLink = document.createElement('div');\n",
              "        docLink.innerHTML = docLinkHtml;\n",
              "        element.appendChild(docLink);\n",
              "      }\n",
              "    </script>\n",
              "  </div>\n",
              "\n",
              "\n",
              "<div id=\"df-b21e9d19-e5a4-4837-9b39-6c3ffab77d27\">\n",
              "  <button class=\"colab-df-quickchart\" onclick=\"quickchart('df-b21e9d19-e5a4-4837-9b39-6c3ffab77d27')\"\n",
              "            title=\"Suggest charts\"\n",
              "            style=\"display:none;\">\n",
              "\n",
              "<svg xmlns=\"http://www.w3.org/2000/svg\" height=\"24px\"viewBox=\"0 0 24 24\"\n",
              "     width=\"24px\">\n",
              "    <g>\n",
              "        <path d=\"M19 3H5c-1.1 0-2 .9-2 2v14c0 1.1.9 2 2 2h14c1.1 0 2-.9 2-2V5c0-1.1-.9-2-2-2zM9 17H7v-7h2v7zm4 0h-2V7h2v10zm4 0h-2v-4h2v4z\"/>\n",
              "    </g>\n",
              "</svg>\n",
              "  </button>\n",
              "\n",
              "<style>\n",
              "  .colab-df-quickchart {\n",
              "      --bg-color: #E8F0FE;\n",
              "      --fill-color: #1967D2;\n",
              "      --hover-bg-color: #E2EBFA;\n",
              "      --hover-fill-color: #174EA6;\n",
              "      --disabled-fill-color: #AAA;\n",
              "      --disabled-bg-color: #DDD;\n",
              "  }\n",
              "\n",
              "  [theme=dark] .colab-df-quickchart {\n",
              "      --bg-color: #3B4455;\n",
              "      --fill-color: #D2E3FC;\n",
              "      --hover-bg-color: #434B5C;\n",
              "      --hover-fill-color: #FFFFFF;\n",
              "      --disabled-bg-color: #3B4455;\n",
              "      --disabled-fill-color: #666;\n",
              "  }\n",
              "\n",
              "  .colab-df-quickchart {\n",
              "    background-color: var(--bg-color);\n",
              "    border: none;\n",
              "    border-radius: 50%;\n",
              "    cursor: pointer;\n",
              "    display: none;\n",
              "    fill: var(--fill-color);\n",
              "    height: 32px;\n",
              "    padding: 0;\n",
              "    width: 32px;\n",
              "  }\n",
              "\n",
              "  .colab-df-quickchart:hover {\n",
              "    background-color: var(--hover-bg-color);\n",
              "    box-shadow: 0 1px 2px rgba(60, 64, 67, 0.3), 0 1px 3px 1px rgba(60, 64, 67, 0.15);\n",
              "    fill: var(--button-hover-fill-color);\n",
              "  }\n",
              "\n",
              "  .colab-df-quickchart-complete:disabled,\n",
              "  .colab-df-quickchart-complete:disabled:hover {\n",
              "    background-color: var(--disabled-bg-color);\n",
              "    fill: var(--disabled-fill-color);\n",
              "    box-shadow: none;\n",
              "  }\n",
              "\n",
              "  .colab-df-spinner {\n",
              "    border: 2px solid var(--fill-color);\n",
              "    border-color: transparent;\n",
              "    border-bottom-color: var(--fill-color);\n",
              "    animation:\n",
              "      spin 1s steps(1) infinite;\n",
              "  }\n",
              "\n",
              "  @keyframes spin {\n",
              "    0% {\n",
              "      border-color: transparent;\n",
              "      border-bottom-color: var(--fill-color);\n",
              "      border-left-color: var(--fill-color);\n",
              "    }\n",
              "    20% {\n",
              "      border-color: transparent;\n",
              "      border-left-color: var(--fill-color);\n",
              "      border-top-color: var(--fill-color);\n",
              "    }\n",
              "    30% {\n",
              "      border-color: transparent;\n",
              "      border-left-color: var(--fill-color);\n",
              "      border-top-color: var(--fill-color);\n",
              "      border-right-color: var(--fill-color);\n",
              "    }\n",
              "    40% {\n",
              "      border-color: transparent;\n",
              "      border-right-color: var(--fill-color);\n",
              "      border-top-color: var(--fill-color);\n",
              "    }\n",
              "    60% {\n",
              "      border-color: transparent;\n",
              "      border-right-color: var(--fill-color);\n",
              "    }\n",
              "    80% {\n",
              "      border-color: transparent;\n",
              "      border-right-color: var(--fill-color);\n",
              "      border-bottom-color: var(--fill-color);\n",
              "    }\n",
              "    90% {\n",
              "      border-color: transparent;\n",
              "      border-bottom-color: var(--fill-color);\n",
              "    }\n",
              "  }\n",
              "</style>\n",
              "\n",
              "  <script>\n",
              "    async function quickchart(key) {\n",
              "      const quickchartButtonEl =\n",
              "        document.querySelector('#' + key + ' button');\n",
              "      quickchartButtonEl.disabled = true;  // To prevent multiple clicks.\n",
              "      quickchartButtonEl.classList.add('colab-df-spinner');\n",
              "      try {\n",
              "        const charts = await google.colab.kernel.invokeFunction(\n",
              "            'suggestCharts', [key], {});\n",
              "      } catch (error) {\n",
              "        console.error('Error during call to suggestCharts:', error);\n",
              "      }\n",
              "      quickchartButtonEl.classList.remove('colab-df-spinner');\n",
              "      quickchartButtonEl.classList.add('colab-df-quickchart-complete');\n",
              "    }\n",
              "    (() => {\n",
              "      let quickchartButtonEl =\n",
              "        document.querySelector('#df-b21e9d19-e5a4-4837-9b39-6c3ffab77d27 button');\n",
              "      quickchartButtonEl.style.display =\n",
              "        google.colab.kernel.accessAllowed ? 'block' : 'none';\n",
              "    })();\n",
              "  </script>\n",
              "</div>\n",
              "\n",
              "    </div>\n",
              "  </div>\n"
            ],
            "application/vnd.google.colaboratory.intrinsic+json": {
              "type": "dataframe",
              "summary": "{\n  \"name\": \"data\",\n  \"rows\": 8,\n  \"fields\": [\n    {\n      \"column\": \"date\",\n      \"properties\": {\n        \"dtype\": \"date\",\n        \"min\": \"1970-01-01 00:00:00.000135408\",\n        \"max\": \"2023-05-31 00:00:00\",\n        \"num_unique_values\": 6,\n        \"samples\": [\n          \"135408\",\n          \"2021-03-16 12:00:00\",\n          \"2023-05-31 00:00:00\"\n        ],\n        \"semantic_type\": \"\",\n        \"description\": \"\"\n      }\n    },\n    {\n      \"column\": \"value\",\n      \"properties\": {\n        \"dtype\": \"number\",\n        \"std\": 47871.103303057265,\n        \"min\": 7.77636e-05,\n        \"max\": 135408.0,\n        \"num_unique_values\": 8,\n        \"samples\": [\n          2.359438811935336,\n          1.6366325,\n          135408.0\n        ],\n        \"semantic_type\": \"\",\n        \"description\": \"\"\n      }\n    },\n    {\n      \"column\": \"Total_CO2_per_country\",\n      \"properties\": {\n        \"dtype\": \"number\",\n        \"std\": 61751.687305897234,\n        \"min\": 1099.732535352,\n        \"max\": 155539.622124,\n        \"num_unique_values\": 8,\n        \"samples\": [\n          22820.49218903857,\n          21631.8203445,\n          135408.0\n        ],\n        \"semantic_type\": \"\",\n        \"description\": \"\"\n      }\n    },\n    {\n      \"column\": \"Sector_percentage_per_country\",\n      \"properties\": {\n        \"dtype\": \"number\",\n        \"std\": 47867.03661891432,\n        \"min\": 0.14436261619650784,\n        \"max\": 135408.0,\n        \"num_unique_values\": 8,\n        \"samples\": [\n          16.666666666666668,\n          27.5548980898124,\n          135408.0\n        ],\n        \"semantic_type\": \"\",\n        \"description\": \"\"\n      }\n    }\n  ]\n}"
            }
          },
          "metadata": {},
          "execution_count": 42
        }
      ]
    },
    {
      "cell_type": "markdown",
      "source": [
        "3. Yearly CO2 emissions by country"
      ],
      "metadata": {
        "id": "SjeXz-i9krej"
      }
    },
    {
      "cell_type": "code",
      "source": [
        "data['Year'] = data['date'].dt.year"
      ],
      "metadata": {
        "id": "33WXH5S1kp-h"
      },
      "execution_count": 43,
      "outputs": []
    },
    {
      "cell_type": "code",
      "source": [
        "data['Yearly_CO2_per_country'] = data.groupby(['country', 'Year'])['value'].transform('sum')"
      ],
      "metadata": {
        "colab": {
          "base_uri": "https://localhost:8080/"
        },
        "id": "V2IZt9zdlRv3",
        "outputId": "f23db372-c17e-4153-a551-9176b31f1070"
      },
      "execution_count": 44,
      "outputs": [
        {
          "output_type": "stream",
          "name": "stderr",
          "text": [
            "<ipython-input-44-0b1bc42f6918>:1: FutureWarning: The default of observed=False is deprecated and will be changed to True in a future version of pandas. Pass observed=False to retain current behavior or observed=True to adopt the future default and silence this warning.\n",
            "  data['Yearly_CO2_per_country'] = data.groupby(['country', 'Year'])['value'].transform('sum')\n"
          ]
        }
      ]
    },
    {
      "cell_type": "code",
      "source": [
        "data.info()"
      ],
      "metadata": {
        "colab": {
          "base_uri": "https://localhost:8080/"
        },
        "id": "WF2Oy1T7m1dv",
        "outputId": "5aa306fa-c5ce-4fd7-f293-c9596af3f303"
      },
      "execution_count": 45,
      "outputs": [
        {
          "output_type": "stream",
          "name": "stdout",
          "text": [
            "<class 'pandas.core.frame.DataFrame'>\n",
            "RangeIndex: 135408 entries, 0 to 135407\n",
            "Data columns (total 8 columns):\n",
            " #   Column                         Non-Null Count   Dtype         \n",
            "---  ------                         --------------   -----         \n",
            " 0   country                        135408 non-null  category      \n",
            " 1   date                           135408 non-null  datetime64[ns]\n",
            " 2   sector                         135408 non-null  category      \n",
            " 3   value                          135408 non-null  float64       \n",
            " 4   Total_CO2_per_country          135408 non-null  float64       \n",
            " 5   Sector_percentage_per_country  135408 non-null  float64       \n",
            " 6   Year                           135408 non-null  int32         \n",
            " 7   Yearly_CO2_per_country         135408 non-null  float64       \n",
            "dtypes: category(2), datetime64[ns](1), float64(4), int32(1)\n",
            "memory usage: 5.9 MB\n"
          ]
        }
      ]
    },
    {
      "cell_type": "markdown",
      "source": [
        "4. CO2 Emissions Growth Rate per Year"
      ],
      "metadata": {
        "id": "ll1g9NpIm_V_"
      }
    },
    {
      "cell_type": "code",
      "source": [
        "data['Yearly_growth_rate'] = data.groupby('country')['value'].pct_change() * 100"
      ],
      "metadata": {
        "colab": {
          "base_uri": "https://localhost:8080/"
        },
        "id": "xQpLPQN8m5o1",
        "outputId": "897569b3-d7f2-491a-a1ac-48df137ed5d2"
      },
      "execution_count": 47,
      "outputs": [
        {
          "output_type": "stream",
          "name": "stderr",
          "text": [
            "<ipython-input-47-668a50da090a>:1: FutureWarning: The default of observed=False is deprecated and will be changed to True in a future version of pandas. Pass observed=False to retain current behavior or observed=True to adopt the future default and silence this warning.\n",
            "  data['Yearly_growth_rate'] = data.groupby('country')['value'].pct_change() * 100\n"
          ]
        }
      ]
    },
    {
      "cell_type": "code",
      "source": [
        "data.info()"
      ],
      "metadata": {
        "colab": {
          "base_uri": "https://localhost:8080/"
        },
        "id": "_0hOlPp-nOcB",
        "outputId": "805ac802-0c90-4f74-cb9c-9b22c26a8c07"
      },
      "execution_count": 48,
      "outputs": [
        {
          "output_type": "stream",
          "name": "stdout",
          "text": [
            "<class 'pandas.core.frame.DataFrame'>\n",
            "RangeIndex: 135408 entries, 0 to 135407\n",
            "Data columns (total 9 columns):\n",
            " #   Column                         Non-Null Count   Dtype         \n",
            "---  ------                         --------------   -----         \n",
            " 0   country                        135408 non-null  category      \n",
            " 1   date                           135408 non-null  datetime64[ns]\n",
            " 2   sector                         135408 non-null  category      \n",
            " 3   value                          135408 non-null  float64       \n",
            " 4   Total_CO2_per_country          135408 non-null  float64       \n",
            " 5   Sector_percentage_per_country  135408 non-null  float64       \n",
            " 6   Year                           135408 non-null  int32         \n",
            " 7   Yearly_CO2_per_country         135408 non-null  float64       \n",
            " 8   Yearly_growth_rate             135394 non-null  float64       \n",
            "dtypes: category(2), datetime64[ns](1), float64(5), int32(1)\n",
            "memory usage: 7.0 MB\n"
          ]
        }
      ]
    },
    {
      "cell_type": "markdown",
      "source": [
        "5. Global CO2 percentage contribution per country"
      ],
      "metadata": {
        "id": "rm2uq8nwnlfz"
      }
    },
    {
      "cell_type": "code",
      "source": [
        "global_total_emissions = data['value'].sum()"
      ],
      "metadata": {
        "id": "4r6rb90snSdt"
      },
      "execution_count": 50,
      "outputs": []
    },
    {
      "cell_type": "code",
      "source": [
        "data['Global_CO2_percentage_per_country'] = data['value'] / global_total_emissions * 100"
      ],
      "metadata": {
        "id": "7P0HGlm_nvF_"
      },
      "execution_count": 51,
      "outputs": []
    },
    {
      "cell_type": "code",
      "source": [
        "data.info()"
      ],
      "metadata": {
        "colab": {
          "base_uri": "https://localhost:8080/"
        },
        "id": "3Xoj-A6Gnz3O",
        "outputId": "7702a529-113b-4818-b52b-b5d8205b6202"
      },
      "execution_count": 52,
      "outputs": [
        {
          "output_type": "stream",
          "name": "stdout",
          "text": [
            "<class 'pandas.core.frame.DataFrame'>\n",
            "RangeIndex: 135408 entries, 0 to 135407\n",
            "Data columns (total 10 columns):\n",
            " #   Column                             Non-Null Count   Dtype         \n",
            "---  ------                             --------------   -----         \n",
            " 0   country                            135408 non-null  category      \n",
            " 1   date                               135408 non-null  datetime64[ns]\n",
            " 2   sector                             135408 non-null  category      \n",
            " 3   value                              135408 non-null  float64       \n",
            " 4   Total_CO2_per_country              135408 non-null  float64       \n",
            " 5   Sector_percentage_per_country      135408 non-null  float64       \n",
            " 6   Year                               135408 non-null  int32         \n",
            " 7   Yearly_CO2_per_country             135408 non-null  float64       \n",
            " 8   Yearly_growth_rate                 135394 non-null  float64       \n",
            " 9   Global_CO2_percentage_per_country  135408 non-null  float64       \n",
            "dtypes: category(2), datetime64[ns](1), float64(6), int32(1)\n",
            "memory usage: 8.0 MB\n"
          ]
        }
      ]
    },
    {
      "cell_type": "markdown",
      "source": [
        "6. Cumulative CO2 emissions per sector"
      ],
      "metadata": {
        "id": "h5jgqf2In8oj"
      }
    },
    {
      "cell_type": "code",
      "source": [
        "data['Cumulative_CO2_per_sector'] = data.groupby(['sector','date'])['value'].cumsum()"
      ],
      "metadata": {
        "colab": {
          "base_uri": "https://localhost:8080/"
        },
        "id": "_hFbDYMan2Br",
        "outputId": "935e5e00-1e7c-4f9c-f27f-4293237a57e1"
      },
      "execution_count": 53,
      "outputs": [
        {
          "output_type": "stream",
          "name": "stderr",
          "text": [
            "<ipython-input-53-4475cff77121>:1: FutureWarning: The default of observed=False is deprecated and will be changed to True in a future version of pandas. Pass observed=False to retain current behavior or observed=True to adopt the future default and silence this warning.\n",
            "  data['Cumulative_CO2_per_sector'] = data.groupby(['sector','date'])['value'].cumsum()\n"
          ]
        }
      ]
    },
    {
      "cell_type": "code",
      "source": [
        "data.info()"
      ],
      "metadata": {
        "colab": {
          "base_uri": "https://localhost:8080/"
        },
        "id": "vlP7noXroLDB",
        "outputId": "6c209cf7-29e8-4284-ad66-bdb8fd5e46cd"
      },
      "execution_count": 54,
      "outputs": [
        {
          "output_type": "stream",
          "name": "stdout",
          "text": [
            "<class 'pandas.core.frame.DataFrame'>\n",
            "RangeIndex: 135408 entries, 0 to 135407\n",
            "Data columns (total 11 columns):\n",
            " #   Column                             Non-Null Count   Dtype         \n",
            "---  ------                             --------------   -----         \n",
            " 0   country                            135408 non-null  category      \n",
            " 1   date                               135408 non-null  datetime64[ns]\n",
            " 2   sector                             135408 non-null  category      \n",
            " 3   value                              135408 non-null  float64       \n",
            " 4   Total_CO2_per_country              135408 non-null  float64       \n",
            " 5   Sector_percentage_per_country      135408 non-null  float64       \n",
            " 6   Year                               135408 non-null  int32         \n",
            " 7   Yearly_CO2_per_country             135408 non-null  float64       \n",
            " 8   Yearly_growth_rate                 135394 non-null  float64       \n",
            " 9   Global_CO2_percentage_per_country  135408 non-null  float64       \n",
            " 10  Cumulative_CO2_per_sector          135408 non-null  float64       \n",
            "dtypes: category(2), datetime64[ns](1), float64(7), int32(1)\n",
            "memory usage: 9.0 MB\n"
          ]
        }
      ]
    },
    {
      "cell_type": "code",
      "source": [
        "print(data.isnull().sum())"
      ],
      "metadata": {
        "colab": {
          "base_uri": "https://localhost:8080/"
        },
        "id": "VZMIXzm3oZYG",
        "outputId": "3fca563a-5088-4e2e-cd7e-1194c5574df8"
      },
      "execution_count": 56,
      "outputs": [
        {
          "output_type": "stream",
          "name": "stdout",
          "text": [
            "country                               0\n",
            "date                                  0\n",
            "sector                                0\n",
            "value                                 0\n",
            "Total_CO2_per_country                 0\n",
            "Sector_percentage_per_country         0\n",
            "Year                                  0\n",
            "Yearly_CO2_per_country                0\n",
            "Yearly_growth_rate                   14\n",
            "Global_CO2_percentage_per_country     0\n",
            "Cumulative_CO2_per_sector             0\n",
            "dtype: int64\n"
          ]
        }
      ]
    },
    {
      "cell_type": "code",
      "source": [
        "data['Yearly_growth_rate'] = data['Yearly_growth_rate'].astype(float)"
      ],
      "metadata": {
        "id": "gg5V40ckxZs-"
      },
      "execution_count": 65,
      "outputs": []
    },
    {
      "cell_type": "code",
      "source": [
        "data['Yearly_growth_rate'].fillna(method='ffill', inplace=True)"
      ],
      "metadata": {
        "colab": {
          "base_uri": "https://localhost:8080/"
        },
        "id": "uTLr7eK3x3_L",
        "outputId": "d6d0d04a-6171-4247-ccfb-574aca5a640a"
      },
      "execution_count": 66,
      "outputs": [
        {
          "output_type": "stream",
          "name": "stderr",
          "text": [
            "<ipython-input-66-0609d925212c>:1: FutureWarning: A value is trying to be set on a copy of a DataFrame or Series through chained assignment using an inplace method.\n",
            "The behavior will change in pandas 3.0. This inplace method will never work because the intermediate object on which we are setting values always behaves as a copy.\n",
            "\n",
            "For example, when doing 'df[col].method(value, inplace=True)', try using 'df.method({col: value}, inplace=True)' or df[col] = df[col].method(value) instead, to perform the operation inplace on the original object.\n",
            "\n",
            "\n",
            "  data['Yearly_growth_rate'].fillna(method='ffill', inplace=True)\n",
            "<ipython-input-66-0609d925212c>:1: FutureWarning: Series.fillna with 'method' is deprecated and will raise in a future version. Use obj.ffill() or obj.bfill() instead.\n",
            "  data['Yearly_growth_rate'].fillna(method='ffill', inplace=True)\n"
          ]
        }
      ]
    },
    {
      "cell_type": "code",
      "source": [
        "data['Yearly_growth_rate'].fillna(method='bfill', inplace=True)"
      ],
      "metadata": {
        "colab": {
          "base_uri": "https://localhost:8080/"
        },
        "id": "5NFRwRyEx6XS",
        "outputId": "a8b7a135-a469-4850-8e2c-37b8b1301272"
      },
      "execution_count": 67,
      "outputs": [
        {
          "output_type": "stream",
          "name": "stderr",
          "text": [
            "<ipython-input-67-ee7392768d97>:1: FutureWarning: A value is trying to be set on a copy of a DataFrame or Series through chained assignment using an inplace method.\n",
            "The behavior will change in pandas 3.0. This inplace method will never work because the intermediate object on which we are setting values always behaves as a copy.\n",
            "\n",
            "For example, when doing 'df[col].method(value, inplace=True)', try using 'df.method({col: value}, inplace=True)' or df[col] = df[col].method(value) instead, to perform the operation inplace on the original object.\n",
            "\n",
            "\n",
            "  data['Yearly_growth_rate'].fillna(method='bfill', inplace=True)\n",
            "<ipython-input-67-ee7392768d97>:1: FutureWarning: Series.fillna with 'method' is deprecated and will raise in a future version. Use obj.ffill() or obj.bfill() instead.\n",
            "  data['Yearly_growth_rate'].fillna(method='bfill', inplace=True)\n"
          ]
        }
      ]
    },
    {
      "cell_type": "code",
      "source": [
        "print(data[['Yearly_growth_rate']].isnull().sum())"
      ],
      "metadata": {
        "colab": {
          "base_uri": "https://localhost:8080/"
        },
        "id": "M58xPU7KyApM",
        "outputId": "5ebf293c-285a-4d5e-de3d-88e7d6e63ef9"
      },
      "execution_count": 68,
      "outputs": [
        {
          "output_type": "stream",
          "name": "stdout",
          "text": [
            "Yearly_growth_rate    0\n",
            "dtype: int64\n"
          ]
        }
      ]
    },
    {
      "cell_type": "code",
      "source": [
        "data.info()"
      ],
      "metadata": {
        "colab": {
          "base_uri": "https://localhost:8080/"
        },
        "id": "b_eUv1UDyDxe",
        "outputId": "4799bbc3-2120-40de-cab7-4f3ef82f04c4"
      },
      "execution_count": 69,
      "outputs": [
        {
          "output_type": "stream",
          "name": "stdout",
          "text": [
            "<class 'pandas.core.frame.DataFrame'>\n",
            "RangeIndex: 135408 entries, 0 to 135407\n",
            "Data columns (total 11 columns):\n",
            " #   Column                             Non-Null Count   Dtype         \n",
            "---  ------                             --------------   -----         \n",
            " 0   country                            135408 non-null  category      \n",
            " 1   date                               135408 non-null  datetime64[ns]\n",
            " 2   sector                             135408 non-null  category      \n",
            " 3   value                              135408 non-null  float64       \n",
            " 4   Total_CO2_per_country              135408 non-null  float64       \n",
            " 5   Sector_percentage_per_country      135408 non-null  float64       \n",
            " 6   Year                               135408 non-null  int32         \n",
            " 7   Yearly_CO2_per_country             135408 non-null  float64       \n",
            " 8   Yearly_growth_rate                 135408 non-null  float64       \n",
            " 9   Global_CO2_percentage_per_country  135408 non-null  float64       \n",
            " 10  Cumulative_CO2_per_sector          135408 non-null  float64       \n",
            "dtypes: category(2), datetime64[ns](1), float64(7), int32(1)\n",
            "memory usage: 9.0 MB\n"
          ]
        }
      ]
    },
    {
      "cell_type": "code",
      "source": [
        "import sklearn"
      ],
      "metadata": {
        "id": "KC4veHq-yLu2"
      },
      "execution_count": 71,
      "outputs": []
    },
    {
      "cell_type": "code",
      "source": [
        "from sklearn.preprocessing import MinMaxScaler"
      ],
      "metadata": {
        "id": "aHGRQ5VpyXlZ"
      },
      "execution_count": 72,
      "outputs": []
    },
    {
      "cell_type": "code",
      "source": [
        "scaler = MinMaxScaler()"
      ],
      "metadata": {
        "id": "qngM8US7ybuR"
      },
      "execution_count": 73,
      "outputs": []
    },
    {
      "cell_type": "code",
      "source": [
        "data['value'] = scaler.fit_transform(data[['value']])"
      ],
      "metadata": {
        "id": "OwGV834kyec-"
      },
      "execution_count": 74,
      "outputs": []
    },
    {
      "cell_type": "code",
      "source": [
        "print(data[['value']].head())"
      ],
      "metadata": {
        "colab": {
          "base_uri": "https://localhost:8080/"
        },
        "id": "RvxxHm8Uyh0H",
        "outputId": "1a928129-1870-4e36-84dc-243ab9b4d4b6"
      },
      "execution_count": 75,
      "outputs": [
        {
          "output_type": "stream",
          "name": "stdout",
          "text": [
            "      value\n",
            "0  0.002091\n",
            "1  0.320253\n",
            "2  0.040775\n",
            "3  0.001105\n",
            "4  0.006807\n"
          ]
        }
      ]
    },
    {
      "cell_type": "code",
      "source": [
        "data.describe()"
      ],
      "metadata": {
        "colab": {
          "base_uri": "https://localhost:8080/",
          "height": 528
        },
        "id": "96rldZdgyk1V",
        "outputId": "f8f8e324-6cec-48a3-9fb5-431cf750c78b"
      },
      "execution_count": 76,
      "outputs": [
        {
          "output_type": "execute_result",
          "data": {
            "text/plain": [
              "                      date          value  Total_CO2_per_country  \\\n",
              "count               135408  135408.000000          135408.000000   \n",
              "mean   2021-03-16 12:00:00       0.050998           22820.492189   \n",
              "min    2019-01-01 00:00:00       0.000000            1099.732535   \n",
              "25%    2020-02-07 18:00:00       0.001699            1605.296587   \n",
              "50%    2021-03-16 12:00:00       0.006798            6281.788656   \n",
              "75%    2022-04-23 06:00:00       0.035375           21631.820344   \n",
              "max    2023-05-31 00:00:00       1.000000          155539.622124   \n",
              "std                    NaN       0.127716           39865.254704   \n",
              "\n",
              "       Sector_percentage_per_country           Year  Yearly_CO2_per_country  \\\n",
              "count                  135408.000000  135408.000000           135408.000000   \n",
              "mean                       16.666667    2020.733871             4875.711410   \n",
              "min                         0.144363    2019.000000              106.408611   \n",
              "25%                         2.806176    2020.000000              332.770408   \n",
              "50%                        16.414061    2021.000000             1108.487271   \n",
              "75%                        27.554898    2022.000000             4612.520487   \n",
              "max                        59.288309    2023.000000            36119.462025   \n",
              "std                        14.221580       1.289596             8695.729723   \n",
              "\n",
              "       Yearly_growth_rate  Global_CO2_percentage_per_country  \\\n",
              "count       135408.000000                       1.354080e+05   \n",
              "mean             1.372388                       7.385088e-04   \n",
              "min            -98.688571                       2.434015e-08   \n",
              "25%             -4.254915                       2.462096e-05   \n",
              "50%              0.054506                       9.846930e-05   \n",
              "75%              4.162090                       5.122691e-04   \n",
              "max           2810.706002                       1.448056e-02   \n",
              "std             21.862368                       1.849397e-03   \n",
              "\n",
              "       Cumulative_CO2_per_sector  \n",
              "count              135408.000000  \n",
              "mean                   11.313339  \n",
              "min                     0.001055  \n",
              "25%                     0.550475  \n",
              "50%                     5.942800  \n",
              "75%                    16.444686  \n",
              "max                    94.753415  \n",
              "std                    14.149002  "
            ],
            "text/html": [
              "\n",
              "  <div id=\"df-3b276659-58c5-4b2c-abb4-e16f308ff01e\" class=\"colab-df-container\">\n",
              "    <div>\n",
              "<style scoped>\n",
              "    .dataframe tbody tr th:only-of-type {\n",
              "        vertical-align: middle;\n",
              "    }\n",
              "\n",
              "    .dataframe tbody tr th {\n",
              "        vertical-align: top;\n",
              "    }\n",
              "\n",
              "    .dataframe thead th {\n",
              "        text-align: right;\n",
              "    }\n",
              "</style>\n",
              "<table border=\"1\" class=\"dataframe\">\n",
              "  <thead>\n",
              "    <tr style=\"text-align: right;\">\n",
              "      <th></th>\n",
              "      <th>date</th>\n",
              "      <th>value</th>\n",
              "      <th>Total_CO2_per_country</th>\n",
              "      <th>Sector_percentage_per_country</th>\n",
              "      <th>Year</th>\n",
              "      <th>Yearly_CO2_per_country</th>\n",
              "      <th>Yearly_growth_rate</th>\n",
              "      <th>Global_CO2_percentage_per_country</th>\n",
              "      <th>Cumulative_CO2_per_sector</th>\n",
              "    </tr>\n",
              "  </thead>\n",
              "  <tbody>\n",
              "    <tr>\n",
              "      <th>count</th>\n",
              "      <td>135408</td>\n",
              "      <td>135408.000000</td>\n",
              "      <td>135408.000000</td>\n",
              "      <td>135408.000000</td>\n",
              "      <td>135408.000000</td>\n",
              "      <td>135408.000000</td>\n",
              "      <td>135408.000000</td>\n",
              "      <td>1.354080e+05</td>\n",
              "      <td>135408.000000</td>\n",
              "    </tr>\n",
              "    <tr>\n",
              "      <th>mean</th>\n",
              "      <td>2021-03-16 12:00:00</td>\n",
              "      <td>0.050998</td>\n",
              "      <td>22820.492189</td>\n",
              "      <td>16.666667</td>\n",
              "      <td>2020.733871</td>\n",
              "      <td>4875.711410</td>\n",
              "      <td>1.372388</td>\n",
              "      <td>7.385088e-04</td>\n",
              "      <td>11.313339</td>\n",
              "    </tr>\n",
              "    <tr>\n",
              "      <th>min</th>\n",
              "      <td>2019-01-01 00:00:00</td>\n",
              "      <td>0.000000</td>\n",
              "      <td>1099.732535</td>\n",
              "      <td>0.144363</td>\n",
              "      <td>2019.000000</td>\n",
              "      <td>106.408611</td>\n",
              "      <td>-98.688571</td>\n",
              "      <td>2.434015e-08</td>\n",
              "      <td>0.001055</td>\n",
              "    </tr>\n",
              "    <tr>\n",
              "      <th>25%</th>\n",
              "      <td>2020-02-07 18:00:00</td>\n",
              "      <td>0.001699</td>\n",
              "      <td>1605.296587</td>\n",
              "      <td>2.806176</td>\n",
              "      <td>2020.000000</td>\n",
              "      <td>332.770408</td>\n",
              "      <td>-4.254915</td>\n",
              "      <td>2.462096e-05</td>\n",
              "      <td>0.550475</td>\n",
              "    </tr>\n",
              "    <tr>\n",
              "      <th>50%</th>\n",
              "      <td>2021-03-16 12:00:00</td>\n",
              "      <td>0.006798</td>\n",
              "      <td>6281.788656</td>\n",
              "      <td>16.414061</td>\n",
              "      <td>2021.000000</td>\n",
              "      <td>1108.487271</td>\n",
              "      <td>0.054506</td>\n",
              "      <td>9.846930e-05</td>\n",
              "      <td>5.942800</td>\n",
              "    </tr>\n",
              "    <tr>\n",
              "      <th>75%</th>\n",
              "      <td>2022-04-23 06:00:00</td>\n",
              "      <td>0.035375</td>\n",
              "      <td>21631.820344</td>\n",
              "      <td>27.554898</td>\n",
              "      <td>2022.000000</td>\n",
              "      <td>4612.520487</td>\n",
              "      <td>4.162090</td>\n",
              "      <td>5.122691e-04</td>\n",
              "      <td>16.444686</td>\n",
              "    </tr>\n",
              "    <tr>\n",
              "      <th>max</th>\n",
              "      <td>2023-05-31 00:00:00</td>\n",
              "      <td>1.000000</td>\n",
              "      <td>155539.622124</td>\n",
              "      <td>59.288309</td>\n",
              "      <td>2023.000000</td>\n",
              "      <td>36119.462025</td>\n",
              "      <td>2810.706002</td>\n",
              "      <td>1.448056e-02</td>\n",
              "      <td>94.753415</td>\n",
              "    </tr>\n",
              "    <tr>\n",
              "      <th>std</th>\n",
              "      <td>NaN</td>\n",
              "      <td>0.127716</td>\n",
              "      <td>39865.254704</td>\n",
              "      <td>14.221580</td>\n",
              "      <td>1.289596</td>\n",
              "      <td>8695.729723</td>\n",
              "      <td>21.862368</td>\n",
              "      <td>1.849397e-03</td>\n",
              "      <td>14.149002</td>\n",
              "    </tr>\n",
              "  </tbody>\n",
              "</table>\n",
              "</div>\n",
              "    <div class=\"colab-df-buttons\">\n",
              "\n",
              "  <div class=\"colab-df-container\">\n",
              "    <button class=\"colab-df-convert\" onclick=\"convertToInteractive('df-3b276659-58c5-4b2c-abb4-e16f308ff01e')\"\n",
              "            title=\"Convert this dataframe to an interactive table.\"\n",
              "            style=\"display:none;\">\n",
              "\n",
              "  <svg xmlns=\"http://www.w3.org/2000/svg\" height=\"24px\" viewBox=\"0 -960 960 960\">\n",
              "    <path d=\"M120-120v-720h720v720H120Zm60-500h600v-160H180v160Zm220 220h160v-160H400v160Zm0 220h160v-160H400v160ZM180-400h160v-160H180v160Zm440 0h160v-160H620v160ZM180-180h160v-160H180v160Zm440 0h160v-160H620v160Z\"/>\n",
              "  </svg>\n",
              "    </button>\n",
              "\n",
              "  <style>\n",
              "    .colab-df-container {\n",
              "      display:flex;\n",
              "      gap: 12px;\n",
              "    }\n",
              "\n",
              "    .colab-df-convert {\n",
              "      background-color: #E8F0FE;\n",
              "      border: none;\n",
              "      border-radius: 50%;\n",
              "      cursor: pointer;\n",
              "      display: none;\n",
              "      fill: #1967D2;\n",
              "      height: 32px;\n",
              "      padding: 0 0 0 0;\n",
              "      width: 32px;\n",
              "    }\n",
              "\n",
              "    .colab-df-convert:hover {\n",
              "      background-color: #E2EBFA;\n",
              "      box-shadow: 0px 1px 2px rgba(60, 64, 67, 0.3), 0px 1px 3px 1px rgba(60, 64, 67, 0.15);\n",
              "      fill: #174EA6;\n",
              "    }\n",
              "\n",
              "    .colab-df-buttons div {\n",
              "      margin-bottom: 4px;\n",
              "    }\n",
              "\n",
              "    [theme=dark] .colab-df-convert {\n",
              "      background-color: #3B4455;\n",
              "      fill: #D2E3FC;\n",
              "    }\n",
              "\n",
              "    [theme=dark] .colab-df-convert:hover {\n",
              "      background-color: #434B5C;\n",
              "      box-shadow: 0px 1px 3px 1px rgba(0, 0, 0, 0.15);\n",
              "      filter: drop-shadow(0px 1px 2px rgba(0, 0, 0, 0.3));\n",
              "      fill: #FFFFFF;\n",
              "    }\n",
              "  </style>\n",
              "\n",
              "    <script>\n",
              "      const buttonEl =\n",
              "        document.querySelector('#df-3b276659-58c5-4b2c-abb4-e16f308ff01e button.colab-df-convert');\n",
              "      buttonEl.style.display =\n",
              "        google.colab.kernel.accessAllowed ? 'block' : 'none';\n",
              "\n",
              "      async function convertToInteractive(key) {\n",
              "        const element = document.querySelector('#df-3b276659-58c5-4b2c-abb4-e16f308ff01e');\n",
              "        const dataTable =\n",
              "          await google.colab.kernel.invokeFunction('convertToInteractive',\n",
              "                                                    [key], {});\n",
              "        if (!dataTable) return;\n",
              "\n",
              "        const docLinkHtml = 'Like what you see? Visit the ' +\n",
              "          '<a target=\"_blank\" href=https://colab.research.google.com/notebooks/data_table.ipynb>data table notebook</a>'\n",
              "          + ' to learn more about interactive tables.';\n",
              "        element.innerHTML = '';\n",
              "        dataTable['output_type'] = 'display_data';\n",
              "        await google.colab.output.renderOutput(dataTable, element);\n",
              "        const docLink = document.createElement('div');\n",
              "        docLink.innerHTML = docLinkHtml;\n",
              "        element.appendChild(docLink);\n",
              "      }\n",
              "    </script>\n",
              "  </div>\n",
              "\n",
              "\n",
              "<div id=\"df-9625c7d3-e0f1-4680-ae3a-6c18b0c19dcb\">\n",
              "  <button class=\"colab-df-quickchart\" onclick=\"quickchart('df-9625c7d3-e0f1-4680-ae3a-6c18b0c19dcb')\"\n",
              "            title=\"Suggest charts\"\n",
              "            style=\"display:none;\">\n",
              "\n",
              "<svg xmlns=\"http://www.w3.org/2000/svg\" height=\"24px\"viewBox=\"0 0 24 24\"\n",
              "     width=\"24px\">\n",
              "    <g>\n",
              "        <path d=\"M19 3H5c-1.1 0-2 .9-2 2v14c0 1.1.9 2 2 2h14c1.1 0 2-.9 2-2V5c0-1.1-.9-2-2-2zM9 17H7v-7h2v7zm4 0h-2V7h2v10zm4 0h-2v-4h2v4z\"/>\n",
              "    </g>\n",
              "</svg>\n",
              "  </button>\n",
              "\n",
              "<style>\n",
              "  .colab-df-quickchart {\n",
              "      --bg-color: #E8F0FE;\n",
              "      --fill-color: #1967D2;\n",
              "      --hover-bg-color: #E2EBFA;\n",
              "      --hover-fill-color: #174EA6;\n",
              "      --disabled-fill-color: #AAA;\n",
              "      --disabled-bg-color: #DDD;\n",
              "  }\n",
              "\n",
              "  [theme=dark] .colab-df-quickchart {\n",
              "      --bg-color: #3B4455;\n",
              "      --fill-color: #D2E3FC;\n",
              "      --hover-bg-color: #434B5C;\n",
              "      --hover-fill-color: #FFFFFF;\n",
              "      --disabled-bg-color: #3B4455;\n",
              "      --disabled-fill-color: #666;\n",
              "  }\n",
              "\n",
              "  .colab-df-quickchart {\n",
              "    background-color: var(--bg-color);\n",
              "    border: none;\n",
              "    border-radius: 50%;\n",
              "    cursor: pointer;\n",
              "    display: none;\n",
              "    fill: var(--fill-color);\n",
              "    height: 32px;\n",
              "    padding: 0;\n",
              "    width: 32px;\n",
              "  }\n",
              "\n",
              "  .colab-df-quickchart:hover {\n",
              "    background-color: var(--hover-bg-color);\n",
              "    box-shadow: 0 1px 2px rgba(60, 64, 67, 0.3), 0 1px 3px 1px rgba(60, 64, 67, 0.15);\n",
              "    fill: var(--button-hover-fill-color);\n",
              "  }\n",
              "\n",
              "  .colab-df-quickchart-complete:disabled,\n",
              "  .colab-df-quickchart-complete:disabled:hover {\n",
              "    background-color: var(--disabled-bg-color);\n",
              "    fill: var(--disabled-fill-color);\n",
              "    box-shadow: none;\n",
              "  }\n",
              "\n",
              "  .colab-df-spinner {\n",
              "    border: 2px solid var(--fill-color);\n",
              "    border-color: transparent;\n",
              "    border-bottom-color: var(--fill-color);\n",
              "    animation:\n",
              "      spin 1s steps(1) infinite;\n",
              "  }\n",
              "\n",
              "  @keyframes spin {\n",
              "    0% {\n",
              "      border-color: transparent;\n",
              "      border-bottom-color: var(--fill-color);\n",
              "      border-left-color: var(--fill-color);\n",
              "    }\n",
              "    20% {\n",
              "      border-color: transparent;\n",
              "      border-left-color: var(--fill-color);\n",
              "      border-top-color: var(--fill-color);\n",
              "    }\n",
              "    30% {\n",
              "      border-color: transparent;\n",
              "      border-left-color: var(--fill-color);\n",
              "      border-top-color: var(--fill-color);\n",
              "      border-right-color: var(--fill-color);\n",
              "    }\n",
              "    40% {\n",
              "      border-color: transparent;\n",
              "      border-right-color: var(--fill-color);\n",
              "      border-top-color: var(--fill-color);\n",
              "    }\n",
              "    60% {\n",
              "      border-color: transparent;\n",
              "      border-right-color: var(--fill-color);\n",
              "    }\n",
              "    80% {\n",
              "      border-color: transparent;\n",
              "      border-right-color: var(--fill-color);\n",
              "      border-bottom-color: var(--fill-color);\n",
              "    }\n",
              "    90% {\n",
              "      border-color: transparent;\n",
              "      border-bottom-color: var(--fill-color);\n",
              "    }\n",
              "  }\n",
              "</style>\n",
              "\n",
              "  <script>\n",
              "    async function quickchart(key) {\n",
              "      const quickchartButtonEl =\n",
              "        document.querySelector('#' + key + ' button');\n",
              "      quickchartButtonEl.disabled = true;  // To prevent multiple clicks.\n",
              "      quickchartButtonEl.classList.add('colab-df-spinner');\n",
              "      try {\n",
              "        const charts = await google.colab.kernel.invokeFunction(\n",
              "            'suggestCharts', [key], {});\n",
              "      } catch (error) {\n",
              "        console.error('Error during call to suggestCharts:', error);\n",
              "      }\n",
              "      quickchartButtonEl.classList.remove('colab-df-spinner');\n",
              "      quickchartButtonEl.classList.add('colab-df-quickchart-complete');\n",
              "    }\n",
              "    (() => {\n",
              "      let quickchartButtonEl =\n",
              "        document.querySelector('#df-9625c7d3-e0f1-4680-ae3a-6c18b0c19dcb button');\n",
              "      quickchartButtonEl.style.display =\n",
              "        google.colab.kernel.accessAllowed ? 'block' : 'none';\n",
              "    })();\n",
              "  </script>\n",
              "</div>\n",
              "\n",
              "    </div>\n",
              "  </div>\n"
            ],
            "application/vnd.google.colaboratory.intrinsic+json": {
              "type": "dataframe",
              "summary": "{\n  \"name\": \"data\",\n  \"rows\": 8,\n  \"fields\": [\n    {\n      \"column\": \"date\",\n      \"properties\": {\n        \"dtype\": \"date\",\n        \"min\": \"1970-01-01 00:00:00.000135408\",\n        \"max\": \"2023-05-31 00:00:00\",\n        \"num_unique_values\": 6,\n        \"samples\": [\n          \"135408\",\n          \"2021-03-16 12:00:00\",\n          \"2023-05-31 00:00:00\"\n        ],\n        \"semantic_type\": \"\",\n        \"description\": \"\"\n      }\n    },\n    {\n      \"column\": \"value\",\n      \"properties\": {\n        \"dtype\": \"number\",\n        \"std\": 47873.895764729175,\n        \"min\": 0.0,\n        \"max\": 135408.0,\n        \"num_unique_values\": 8,\n        \"samples\": [\n          0.0509984115805206,\n          0.035374701163208816,\n          135408.0\n        ],\n        \"semantic_type\": \"\",\n        \"description\": \"\"\n      }\n    },\n    {\n      \"column\": \"Total_CO2_per_country\",\n      \"properties\": {\n        \"dtype\": \"number\",\n        \"std\": 61751.687305897234,\n        \"min\": 1099.732535352,\n        \"max\": 155539.622124,\n        \"num_unique_values\": 8,\n        \"samples\": [\n          22820.49218903857,\n          21631.8203445,\n          135408.0\n        ],\n        \"semantic_type\": \"\",\n        \"description\": \"\"\n      }\n    },\n    {\n      \"column\": \"Sector_percentage_per_country\",\n      \"properties\": {\n        \"dtype\": \"number\",\n        \"std\": 47867.03661891432,\n        \"min\": 0.14436261619650784,\n        \"max\": 135408.0,\n        \"num_unique_values\": 8,\n        \"samples\": [\n          16.666666666666668,\n          27.5548980898124,\n          135408.0\n        ],\n        \"semantic_type\": \"\",\n        \"description\": \"\"\n      }\n    },\n    {\n      \"column\": \"Year\",\n      \"properties\": {\n        \"dtype\": \"number\",\n        \"std\": 47266.73422844148,\n        \"min\": 1.2895962886768488,\n        \"max\": 135408.0,\n        \"num_unique_values\": 8,\n        \"samples\": [\n          2020.733870967742,\n          2022.0,\n          135408.0\n        ],\n        \"semantic_type\": \"\",\n        \"description\": \"\"\n      }\n    },\n    {\n      \"column\": \"Yearly_CO2_per_country\",\n      \"properties\": {\n        \"dtype\": \"number\",\n        \"std\": 46582.41772994017,\n        \"min\": 106.4086114,\n        \"max\": 135408.0,\n        \"num_unique_values\": 8,\n        \"samples\": [\n          4875.711410306826,\n          4612.5204869,\n          135408.0\n        ],\n        \"semantic_type\": \"\",\n        \"description\": \"\"\n      }\n    },\n    {\n      \"column\": \"Yearly_growth_rate\",\n      \"properties\": {\n        \"dtype\": \"number\",\n        \"std\": 47746.04448044725,\n        \"min\": -98.68857116069755,\n        \"max\": 135408.0,\n        \"num_unique_values\": 8,\n        \"samples\": [\n          1.37238778567313,\n          4.162090243227795,\n          135408.0\n        ],\n        \"semantic_type\": \"\",\n        \"description\": \"\"\n      }\n    },\n    {\n      \"column\": \"Global_CO2_percentage_per_country\",\n      \"properties\": {\n        \"dtype\": \"number\",\n        \"std\": 47873.95661927468,\n        \"min\": 2.434015362653259e-08,\n        \"max\": 135408.0,\n        \"num_unique_values\": 8,\n        \"samples\": [\n          0.0007385088030249323,\n          0.0005122690626485413,\n          135408.0\n        ],\n        \"semantic_type\": \"\",\n        \"description\": \"\"\n      }\n    },\n    {\n      \"column\": \"Cumulative_CO2_per_sector\",\n      \"properties\": {\n        \"dtype\": \"number\",\n        \"std\": 47866.737080966486,\n        \"min\": 0.00105493,\n        \"max\": 135408.0,\n        \"num_unique_values\": 8,\n        \"samples\": [\n          11.313339056766658,\n          16.444686375000003,\n          135408.0\n        ],\n        \"semantic_type\": \"\",\n        \"description\": \"\"\n      }\n    }\n  ]\n}"
            }
          },
          "metadata": {},
          "execution_count": 76
        }
      ]
    },
    {
      "cell_type": "markdown",
      "source": [
        "#Exporting cleaned dataset"
      ],
      "metadata": {
        "id": "FcqtyMEdza42"
      }
    },
    {
      "cell_type": "code",
      "source": [
        "data.info()"
      ],
      "metadata": {
        "colab": {
          "base_uri": "https://localhost:8080/"
        },
        "id": "psugq6QyziAV",
        "outputId": "41374cce-1231-4e76-c0f5-c8da7f914b4b"
      },
      "execution_count": 77,
      "outputs": [
        {
          "output_type": "stream",
          "name": "stdout",
          "text": [
            "<class 'pandas.core.frame.DataFrame'>\n",
            "RangeIndex: 135408 entries, 0 to 135407\n",
            "Data columns (total 11 columns):\n",
            " #   Column                             Non-Null Count   Dtype         \n",
            "---  ------                             --------------   -----         \n",
            " 0   country                            135408 non-null  category      \n",
            " 1   date                               135408 non-null  datetime64[ns]\n",
            " 2   sector                             135408 non-null  category      \n",
            " 3   value                              135408 non-null  float64       \n",
            " 4   Total_CO2_per_country              135408 non-null  float64       \n",
            " 5   Sector_percentage_per_country      135408 non-null  float64       \n",
            " 6   Year                               135408 non-null  int32         \n",
            " 7   Yearly_CO2_per_country             135408 non-null  float64       \n",
            " 8   Yearly_growth_rate                 135408 non-null  float64       \n",
            " 9   Global_CO2_percentage_per_country  135408 non-null  float64       \n",
            " 10  Cumulative_CO2_per_sector          135408 non-null  float64       \n",
            "dtypes: category(2), datetime64[ns](1), float64(7), int32(1)\n",
            "memory usage: 9.0 MB\n"
          ]
        }
      ]
    },
    {
      "cell_type": "code",
      "source": [
        "data.to_csv('Calculated_dataset_for_analysis.csv', index=False)"
      ],
      "metadata": {
        "id": "iOkuHutrym_E"
      },
      "execution_count": 78,
      "outputs": []
    }
  ]
}